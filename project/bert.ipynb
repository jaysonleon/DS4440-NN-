{
 "cells": [
  {
   "cell_type": "code",
   "execution_count": 1,
   "metadata": {},
   "outputs": [
    {
     "name": "stderr",
     "output_type": "stream",
     "text": [
      "[nltk_data] Error loading punkt: <urlopen error [SSL:\n",
      "[nltk_data]     CERTIFICATE_VERIFY_FAILED] certificate verify failed:\n",
      "[nltk_data]     unable to get local issuer certificate (_ssl.c:1000)>\n",
      "[nltk_data] Error loading stopwords: <urlopen error [SSL:\n",
      "[nltk_data]     CERTIFICATE_VERIFY_FAILED] certificate verify failed:\n",
      "[nltk_data]     unable to get local issuer certificate (_ssl.c:1000)>\n"
     ]
    },
    {
     "data": {
      "text/plain": [
       "False"
      ]
     },
     "execution_count": 1,
     "metadata": {},
     "output_type": "execute_result"
    }
   ],
   "source": [
    "import re\n",
    "# Numpy \n",
    "import numpy as np\n",
    "# Pickle\n",
    "import pickle\n",
    "# Pandas\n",
    "import pandas as pd\n",
    "# Hugging Face\n",
    "import huggingface_hub\n",
    "from datasets import load_dataset\n",
    "from transformers import AutoTokenizer, AutoModelForSequenceClassification\n",
    "# PyTorch\n",
    "import torch \n",
    "import torch.nn as nn\n",
    "import torch.optim as optim\n",
    "from torch.utils.data import Dataset, DataLoader\n",
    "# SkLearn\n",
    "from sklearn.metrics import classification_report\n",
    "from sklearn.feature_extraction.text import CountVectorizer\n",
    "from sklearn.model_selection import train_test_split\n",
    "from sklearn.naive_bayes import MultinomialNB\n",
    "from sklearn.preprocessing import LabelEncoder\n",
    "# NLTK\n",
    "import nltk\n",
    "from nltk.corpus import stopwords\n",
    "from nltk.tokenize import word_tokenize\n",
    "from nltk.stem import PorterStemmer\n",
    "# nltk.download()\n",
    "nltk.download('punkt')\n",
    "nltk.download('stopwords')"
   ]
  },
  {
   "cell_type": "code",
   "execution_count": 2,
   "metadata": {},
   "outputs": [],
   "source": [
    "# Load datasets \n",
    "# Hate Xplain\n",
    "hate_xplain = pd.read_csv(\"data/hate_xplain.csv\")\n",
    "\n",
    "# Implicit Hate \n",
    "implicit_hate = pd.read_csv('data/implicit-hate-corpus/implicit_hate_v1_stg2_posts.tsv', delimiter='\\t')\n",
    "label_map = {\n",
    "    'white_grievance': 0, 'incitement': 1, 'inferiority': 2,\n",
    "    'irony': 3, 'stereotypical': 4, 'threatening': 5, 'other': 6\n",
    "}\n",
    "\n",
    "implicit_hate['class_label'] = implicit_hate['implicit_class'].map(label_map)\n",
    "implicit_hate.drop(\"extra_implicit_class\", axis=1, inplace=True)\n",
    "\n",
    "# Toxic-Spans\n",
    "annotations = pd.read_csv('data/toxic-spans/annotations.csv')\n",
    "comments = pd.read_csv('data/toxic-spans/comments.csv')\n",
    "\n",
    "toxic_spans = pd.merge(annotations, comments, on='comment_id')"
   ]
  },
  {
   "cell_type": "code",
   "execution_count": 3,
   "metadata": {},
   "outputs": [
    {
     "data": {
      "text/html": [
       "<div>\n",
       "<style scoped>\n",
       "    .dataframe tbody tr th:only-of-type {\n",
       "        vertical-align: middle;\n",
       "    }\n",
       "\n",
       "    .dataframe tbody tr th {\n",
       "        vertical-align: top;\n",
       "    }\n",
       "\n",
       "    .dataframe thead th {\n",
       "        text-align: right;\n",
       "    }\n",
       "</style>\n",
       "<table border=\"1\" class=\"dataframe\">\n",
       "  <thead>\n",
       "    <tr style=\"text-align: right;\">\n",
       "      <th></th>\n",
       "      <th>Unnamed: 0</th>\n",
       "      <th>count</th>\n",
       "      <th>hate_speech</th>\n",
       "      <th>offensive_language</th>\n",
       "      <th>neither</th>\n",
       "      <th>class</th>\n",
       "      <th>tweet</th>\n",
       "    </tr>\n",
       "  </thead>\n",
       "  <tbody>\n",
       "    <tr>\n",
       "      <th>0</th>\n",
       "      <td>0</td>\n",
       "      <td>3</td>\n",
       "      <td>0</td>\n",
       "      <td>0</td>\n",
       "      <td>3</td>\n",
       "      <td>2</td>\n",
       "      <td>!!! RT @mayasolovely: As a woman you shouldn't...</td>\n",
       "    </tr>\n",
       "    <tr>\n",
       "      <th>1</th>\n",
       "      <td>1</td>\n",
       "      <td>3</td>\n",
       "      <td>0</td>\n",
       "      <td>3</td>\n",
       "      <td>0</td>\n",
       "      <td>1</td>\n",
       "      <td>!!!!! RT @mleew17: boy dats cold...tyga dwn ba...</td>\n",
       "    </tr>\n",
       "    <tr>\n",
       "      <th>2</th>\n",
       "      <td>2</td>\n",
       "      <td>3</td>\n",
       "      <td>0</td>\n",
       "      <td>3</td>\n",
       "      <td>0</td>\n",
       "      <td>1</td>\n",
       "      <td>!!!!!!! RT @UrKindOfBrand Dawg!!!! RT @80sbaby...</td>\n",
       "    </tr>\n",
       "    <tr>\n",
       "      <th>3</th>\n",
       "      <td>3</td>\n",
       "      <td>3</td>\n",
       "      <td>0</td>\n",
       "      <td>2</td>\n",
       "      <td>1</td>\n",
       "      <td>1</td>\n",
       "      <td>!!!!!!!!! RT @C_G_Anderson: @viva_based she lo...</td>\n",
       "    </tr>\n",
       "    <tr>\n",
       "      <th>4</th>\n",
       "      <td>4</td>\n",
       "      <td>6</td>\n",
       "      <td>0</td>\n",
       "      <td>6</td>\n",
       "      <td>0</td>\n",
       "      <td>1</td>\n",
       "      <td>!!!!!!!!!!!!! RT @ShenikaRoberts: The shit you...</td>\n",
       "    </tr>\n",
       "    <tr>\n",
       "      <th>...</th>\n",
       "      <td>...</td>\n",
       "      <td>...</td>\n",
       "      <td>...</td>\n",
       "      <td>...</td>\n",
       "      <td>...</td>\n",
       "      <td>...</td>\n",
       "      <td>...</td>\n",
       "    </tr>\n",
       "    <tr>\n",
       "      <th>24778</th>\n",
       "      <td>25291</td>\n",
       "      <td>3</td>\n",
       "      <td>0</td>\n",
       "      <td>2</td>\n",
       "      <td>1</td>\n",
       "      <td>1</td>\n",
       "      <td>you's a muthaf***in lie &amp;#8220;@LifeAsKing: @2...</td>\n",
       "    </tr>\n",
       "    <tr>\n",
       "      <th>24779</th>\n",
       "      <td>25292</td>\n",
       "      <td>3</td>\n",
       "      <td>0</td>\n",
       "      <td>1</td>\n",
       "      <td>2</td>\n",
       "      <td>2</td>\n",
       "      <td>you've gone and broke the wrong heart baby, an...</td>\n",
       "    </tr>\n",
       "    <tr>\n",
       "      <th>24780</th>\n",
       "      <td>25294</td>\n",
       "      <td>3</td>\n",
       "      <td>0</td>\n",
       "      <td>3</td>\n",
       "      <td>0</td>\n",
       "      <td>1</td>\n",
       "      <td>young buck wanna eat!!.. dat nigguh like I ain...</td>\n",
       "    </tr>\n",
       "    <tr>\n",
       "      <th>24781</th>\n",
       "      <td>25295</td>\n",
       "      <td>6</td>\n",
       "      <td>0</td>\n",
       "      <td>6</td>\n",
       "      <td>0</td>\n",
       "      <td>1</td>\n",
       "      <td>youu got wild bitches tellin you lies</td>\n",
       "    </tr>\n",
       "    <tr>\n",
       "      <th>24782</th>\n",
       "      <td>25296</td>\n",
       "      <td>3</td>\n",
       "      <td>0</td>\n",
       "      <td>0</td>\n",
       "      <td>3</td>\n",
       "      <td>2</td>\n",
       "      <td>~~Ruffled | Ntac Eileen Dahlia - Beautiful col...</td>\n",
       "    </tr>\n",
       "  </tbody>\n",
       "</table>\n",
       "<p>24783 rows × 7 columns</p>\n",
       "</div>"
      ],
      "text/plain": [
       "       Unnamed: 0  count  hate_speech  offensive_language  neither  class  \\\n",
       "0               0      3            0                   0        3      2   \n",
       "1               1      3            0                   3        0      1   \n",
       "2               2      3            0                   3        0      1   \n",
       "3               3      3            0                   2        1      1   \n",
       "4               4      6            0                   6        0      1   \n",
       "...           ...    ...          ...                 ...      ...    ...   \n",
       "24778       25291      3            0                   2        1      1   \n",
       "24779       25292      3            0                   1        2      2   \n",
       "24780       25294      3            0                   3        0      1   \n",
       "24781       25295      6            0                   6        0      1   \n",
       "24782       25296      3            0                   0        3      2   \n",
       "\n",
       "                                                   tweet  \n",
       "0      !!! RT @mayasolovely: As a woman you shouldn't...  \n",
       "1      !!!!! RT @mleew17: boy dats cold...tyga dwn ba...  \n",
       "2      !!!!!!! RT @UrKindOfBrand Dawg!!!! RT @80sbaby...  \n",
       "3      !!!!!!!!! RT @C_G_Anderson: @viva_based she lo...  \n",
       "4      !!!!!!!!!!!!! RT @ShenikaRoberts: The shit you...  \n",
       "...                                                  ...  \n",
       "24778  you's a muthaf***in lie &#8220;@LifeAsKing: @2...  \n",
       "24779  you've gone and broke the wrong heart baby, an...  \n",
       "24780  young buck wanna eat!!.. dat nigguh like I ain...  \n",
       "24781              youu got wild bitches tellin you lies  \n",
       "24782  ~~Ruffled | Ntac Eileen Dahlia - Beautiful col...  \n",
       "\n",
       "[24783 rows x 7 columns]"
      ]
     },
     "execution_count": 3,
     "metadata": {},
     "output_type": "execute_result"
    }
   ],
   "source": [
    "hate_xplain"
   ]
  },
  {
   "cell_type": "code",
   "execution_count": 4,
   "metadata": {},
   "outputs": [],
   "source": [
    "def tokenize_data(texts, labels, tokenizer, max_length):\n",
    "    if isinstance(texts, pd.Series):\n",
    "        texts = texts.tolist()\n",
    "    texts = [str(text) for text in texts] \n",
    "\n",
    "    if isinstance(labels, pd.Series):\n",
    "        labels = labels.tolist()\n",
    "    labels = torch.tensor(labels, dtype=torch.long)\n",
    "    \n",
    "    encodings = tokenizer(texts, truncation=True, padding='max_length', max_length=max_length, return_tensors=\"pt\")\n",
    "    dataset = torch.utils.data.TensorDataset(encodings[\"input_ids\"], encodings[\"attention_mask\"], labels)\n",
    "    return dataset\n"
   ]
  },
  {
   "cell_type": "code",
   "execution_count": 5,
   "metadata": {},
   "outputs": [
    {
     "name": "stderr",
     "output_type": "stream",
     "text": [
      "Some weights of DistilBertForSequenceClassification were not initialized from the model checkpoint at distilbert-base-uncased and are newly initialized: ['classifier.bias', 'classifier.weight', 'pre_classifier.bias', 'pre_classifier.weight']\n",
      "You should probably TRAIN this model on a down-stream task to be able to use it for predictions and inference.\n"
     ]
    }
   ],
   "source": [
    "bert = 'distilbert-base-uncased'\n",
    "bert_model = AutoModelForSequenceClassification.from_pretrained(bert, num_labels=3, \n",
    "                id2label={0: \"hate speech\", 1: \"normal\", 2: \"offensive\"}, label2id={\"hate speech\": 0, \"normal\": 1, \"offensive\": 2}, max_length=128)\n",
    "\n",
    "def freeze_bert_layers(layers: list):\n",
    "    for name, param in bert_model.named_parameters():\n",
    "        # Unfreeze only the last two layers\n",
    "        for layer in layers:\n",
    "            if layer in name:\n",
    "                param.requires_grad = True\n",
    "            else:\n",
    "                param.requires_grad = False\n",
    "    return bert_model\n",
    "\n",
    "bert_model_4_5 = freeze_bert_layers([\"transformer.layer.4\", \"transformer.layer.5\"])\n",
    "# if \"transformer.layer.4\" in name or \"transformer.layer.5\" in name:\n",
    "#     param.requires_grad = True\n",
    "# else:\n",
    "#     param.requires_grad = False"
   ]
  },
  {
   "cell_type": "code",
   "execution_count": 6,
   "metadata": {},
   "outputs": [],
   "source": [
    "hx_train_text, hx_test_text, hx_train_labels, hx_test_labels = train_test_split(hate_xplain['tweet'], hate_xplain['class'], test_size=0.2)\n",
    "\n",
    "tokenizer = AutoTokenizer.from_pretrained(bert, clean_up_tokenization_spaces=True)\n",
    "hx_train = tokenize_data(hx_train_text, hx_train_labels, tokenizer, 512)\n",
    "hx_test = tokenize_data(hx_test_text, hx_test_labels, tokenizer, 512)\n",
    "\n",
    "hx_train_loader = DataLoader(hx_train, batch_size=32, shuffle=True)\n",
    "hx_test_loader = DataLoader(hx_test, batch_size=32, shuffle=True)"
   ]
  },
  {
   "cell_type": "code",
   "execution_count": 7,
   "metadata": {},
   "outputs": [
    {
     "name": "stdout",
     "output_type": "stream",
     "text": [
      "620\n",
      "155\n"
     ]
    }
   ],
   "source": [
    "print(hx_train_loader.__len__())\n",
    "print(hx_test_loader.__len__())"
   ]
  },
  {
   "cell_type": "code",
   "execution_count": 8,
   "metadata": {},
   "outputs": [],
   "source": [
    "def train(model, data_loader, optimizer, epochs):\n",
    "    model.train()\n",
    "    for epoch in range(epochs):\n",
    "        for input_ids, attention_mask, labels in data_loader:\n",
    "            optimizer.zero_grad()\n",
    "            outputs = model(input_ids, attention_mask=attention_mask, labels=labels)\n",
    "            loss = outputs.loss\n",
    "            loss.backward()\n",
    "            optimizer.step()\n",
    "        print(f\"Epoch {epoch+1} Loss: {loss.item()}\")\n",
    "\n",
    "def evaluate(model, data_loader):\n",
    "    model.eval()\n",
    "    predictions = []\n",
    "    actuals = []\n",
    "    with torch.no_grad():\n",
    "        for input_ids, attention_mask, labels in data_loader:\n",
    "            outputs = model(input_ids, attention_mask=attention_mask)\n",
    "            logits = outputs.logits\n",
    "            predictions.extend(torch.argmax(logits, dim=1).tolist())\n",
    "            actuals.extend(labels.tolist())\n",
    "    return predictions, actuals"
   ]
  },
  {
   "cell_type": "code",
   "execution_count": 111,
   "metadata": {},
   "outputs": [
    {
     "name": "stdout",
     "output_type": "stream",
     "text": [
      "Epoch 1 Loss: 0.3177885115146637\n",
      "Epoch 2 Loss: 0.06367813795804977\n",
      "Epoch 3 Loss: 0.0864814817905426\n",
      "Epoch 4 Loss: 0.12104514986276627\n",
      "Epoch 5 Loss: 0.2678643763065338\n"
     ]
    }
   ],
   "source": [
    "optimizer = optim.AdamW(bert_model_4_5.parameters(), lr=5e-5)\n",
    "train(bert_model_4_5, hx_train_loader, optimizer, 5)\n",
    "pickle.dump(bert_model_4_5, open(\"BERT/bert_4_5.\", 'wb'))\n"
   ]
  },
  {
   "cell_type": "code",
   "execution_count": 11,
   "metadata": {},
   "outputs": [],
   "source": [
    "bert_model_4_5 = pickle.load(open(\"BERT/bert_4_5.pkl\", 'rb'))"
   ]
  },
  {
   "cell_type": "code",
   "execution_count": 12,
   "metadata": {},
   "outputs": [
    {
     "name": "stdout",
     "output_type": "stream",
     "text": [
      "              precision    recall  f1-score   support\n",
      "\n",
      "           0       0.82      0.55      0.66       271\n",
      "           1       0.96      0.98      0.97      3831\n",
      "           2       0.95      0.95      0.95       855\n",
      "\n",
      "    accuracy                           0.96      4957\n",
      "   macro avg       0.91      0.83      0.86      4957\n",
      "weighted avg       0.95      0.96      0.95      4957\n",
      "\n"
     ]
    }
   ],
   "source": [
    "eval_preds, eval_labels = evaluate(bert_model_4_5, hx_test_loader)\n",
    "print(classification_report(eval_labels, eval_preds))"
   ]
  },
  {
   "cell_type": "code",
   "execution_count": 13,
   "metadata": {},
   "outputs": [
    {
     "data": {
      "text/html": [
       "<div>\n",
       "<style scoped>\n",
       "    .dataframe tbody tr th:only-of-type {\n",
       "        vertical-align: middle;\n",
       "    }\n",
       "\n",
       "    .dataframe tbody tr th {\n",
       "        vertical-align: top;\n",
       "    }\n",
       "\n",
       "    .dataframe thead th {\n",
       "        text-align: right;\n",
       "    }\n",
       "</style>\n",
       "<table border=\"1\" class=\"dataframe\">\n",
       "  <thead>\n",
       "    <tr style=\"text-align: right;\">\n",
       "      <th></th>\n",
       "      <th>Unnamed: 0</th>\n",
       "      <th>count</th>\n",
       "      <th>hate_speech</th>\n",
       "      <th>offensive_language</th>\n",
       "      <th>neither</th>\n",
       "      <th>class</th>\n",
       "      <th>tweet</th>\n",
       "    </tr>\n",
       "  </thead>\n",
       "  <tbody>\n",
       "    <tr>\n",
       "      <th>2281</th>\n",
       "      <td>2326</td>\n",
       "      <td>3</td>\n",
       "      <td>0</td>\n",
       "      <td>3</td>\n",
       "      <td>0</td>\n",
       "      <td>1</td>\n",
       "      <td>934 8616\\ni got a missed call from yo bitch</td>\n",
       "    </tr>\n",
       "    <tr>\n",
       "      <th>15914</th>\n",
       "      <td>16283</td>\n",
       "      <td>3</td>\n",
       "      <td>0</td>\n",
       "      <td>3</td>\n",
       "      <td>0</td>\n",
       "      <td>1</td>\n",
       "      <td>RT @KINGTUNCHI_: Fucking with a bad bitch you ...</td>\n",
       "    </tr>\n",
       "    <tr>\n",
       "      <th>18943</th>\n",
       "      <td>19362</td>\n",
       "      <td>3</td>\n",
       "      <td>0</td>\n",
       "      <td>1</td>\n",
       "      <td>2</td>\n",
       "      <td>2</td>\n",
       "      <td>RT @eanahS__: @1inkkofrosess lol my credit ain...</td>\n",
       "    </tr>\n",
       "    <tr>\n",
       "      <th>16407</th>\n",
       "      <td>16780</td>\n",
       "      <td>3</td>\n",
       "      <td>0</td>\n",
       "      <td>3</td>\n",
       "      <td>0</td>\n",
       "      <td>1</td>\n",
       "      <td>RT @Maxin_Betha Wipe the cum out of them faggo...</td>\n",
       "    </tr>\n",
       "    <tr>\n",
       "      <th>13326</th>\n",
       "      <td>13654</td>\n",
       "      <td>3</td>\n",
       "      <td>1</td>\n",
       "      <td>2</td>\n",
       "      <td>0</td>\n",
       "      <td>1</td>\n",
       "      <td>Niggas cheat on they bitch and don't expect no...</td>\n",
       "    </tr>\n",
       "    <tr>\n",
       "      <th>...</th>\n",
       "      <td>...</td>\n",
       "      <td>...</td>\n",
       "      <td>...</td>\n",
       "      <td>...</td>\n",
       "      <td>...</td>\n",
       "      <td>...</td>\n",
       "      <td>...</td>\n",
       "    </tr>\n",
       "    <tr>\n",
       "      <th>15333</th>\n",
       "      <td>15696</td>\n",
       "      <td>3</td>\n",
       "      <td>0</td>\n",
       "      <td>3</td>\n",
       "      <td>0</td>\n",
       "      <td>1</td>\n",
       "      <td>RT @GbOSMG: y'all gotta stop pumping these ugl...</td>\n",
       "    </tr>\n",
       "    <tr>\n",
       "      <th>20895</th>\n",
       "      <td>21346</td>\n",
       "      <td>3</td>\n",
       "      <td>0</td>\n",
       "      <td>3</td>\n",
       "      <td>0</td>\n",
       "      <td>1</td>\n",
       "      <td>Smellin good, bitches wanna hug me</td>\n",
       "    </tr>\n",
       "    <tr>\n",
       "      <th>22553</th>\n",
       "      <td>23029</td>\n",
       "      <td>3</td>\n",
       "      <td>0</td>\n",
       "      <td>2</td>\n",
       "      <td>1</td>\n",
       "      <td>1</td>\n",
       "      <td>Welding with your shirt off is the redneck ver...</td>\n",
       "    </tr>\n",
       "    <tr>\n",
       "      <th>17119</th>\n",
       "      <td>17510</td>\n",
       "      <td>3</td>\n",
       "      <td>1</td>\n",
       "      <td>2</td>\n",
       "      <td>0</td>\n",
       "      <td>1</td>\n",
       "      <td>RT @RobProvince: Do I support killing terroris...</td>\n",
       "    </tr>\n",
       "    <tr>\n",
       "      <th>7802</th>\n",
       "      <td>8022</td>\n",
       "      <td>3</td>\n",
       "      <td>0</td>\n",
       "      <td>3</td>\n",
       "      <td>0</td>\n",
       "      <td>1</td>\n",
       "      <td>Apple sauce, bitch.</td>\n",
       "    </tr>\n",
       "  </tbody>\n",
       "</table>\n",
       "<p>10000 rows × 7 columns</p>\n",
       "</div>"
      ],
      "text/plain": [
       "       Unnamed: 0  count  hate_speech  offensive_language  neither  class  \\\n",
       "2281         2326      3            0                   3        0      1   \n",
       "15914       16283      3            0                   3        0      1   \n",
       "18943       19362      3            0                   1        2      2   \n",
       "16407       16780      3            0                   3        0      1   \n",
       "13326       13654      3            1                   2        0      1   \n",
       "...           ...    ...          ...                 ...      ...    ...   \n",
       "15333       15696      3            0                   3        0      1   \n",
       "20895       21346      3            0                   3        0      1   \n",
       "22553       23029      3            0                   2        1      1   \n",
       "17119       17510      3            1                   2        0      1   \n",
       "7802         8022      3            0                   3        0      1   \n",
       "\n",
       "                                                   tweet  \n",
       "2281         934 8616\\ni got a missed call from yo bitch  \n",
       "15914  RT @KINGTUNCHI_: Fucking with a bad bitch you ...  \n",
       "18943  RT @eanahS__: @1inkkofrosess lol my credit ain...  \n",
       "16407  RT @Maxin_Betha Wipe the cum out of them faggo...  \n",
       "13326  Niggas cheat on they bitch and don't expect no...  \n",
       "...                                                  ...  \n",
       "15333  RT @GbOSMG: y'all gotta stop pumping these ugl...  \n",
       "20895                 Smellin good, bitches wanna hug me  \n",
       "22553  Welding with your shirt off is the redneck ver...  \n",
       "17119  RT @RobProvince: Do I support killing terroris...  \n",
       "7802                                 Apple sauce, bitch.  \n",
       "\n",
       "[10000 rows x 7 columns]"
      ]
     },
     "execution_count": 13,
     "metadata": {},
     "output_type": "execute_result"
    }
   ],
   "source": [
    "hate_xplain = hate_xplain.sample(n=10000, random_state=42)\n",
    "hate_xplain"
   ]
  },
  {
   "cell_type": "code",
   "execution_count": 118,
   "metadata": {},
   "outputs": [],
   "source": [
    "bert_model_2_3 = freeze_bert_layers([\"transformer.layer.2\", \"transformer.layer.3\"])\n",
    "optimizer = optim.AdamW(bert_model_2_3.parameters(), lr=5e-5)"
   ]
  },
  {
   "cell_type": "code",
   "execution_count": 14,
   "metadata": {},
   "outputs": [],
   "source": [
    "hx_train_text, hx_test_text, hx_train_labels, hx_test_labels = train_test_split(hate_xplain['tweet'], hate_xplain['class'], test_size=0.2)\n",
    "\n",
    "tokenizer = AutoTokenizer.from_pretrained(bert, clean_up_tokenization_spaces=True)\n",
    "hx_train = tokenize_data(hx_train_text, hx_train_labels, tokenizer, 512)\n",
    "hx_test = tokenize_data(hx_test_text, hx_test_labels, tokenizer, 512)\n",
    "\n",
    "hx_train_loader = DataLoader(hx_train, batch_size=64, shuffle=True)\n",
    "hx_test_loader = DataLoader(hx_test, batch_size=64, shuffle=True)"
   ]
  },
  {
   "cell_type": "code",
   "execution_count": 121,
   "metadata": {},
   "outputs": [
    {
     "name": "stdout",
     "output_type": "stream",
     "text": [
      "Epoch 1 Loss: 0.23374336957931519\n",
      "Epoch 2 Loss: 0.1793309450149536\n",
      "Epoch 3 Loss: 0.0936882495880127\n",
      "Epoch 4 Loss: 0.0728011503815651\n",
      "Epoch 5 Loss: 0.06655523926019669\n"
     ]
    }
   ],
   "source": [
    "train(bert_model_2_3, hx_train_loader, optimizer, 5)\n",
    "pickle.dump(bert_model_2_3, open(\"BERT/bert_2_3.pkl\", 'wb'))"
   ]
  },
  {
   "cell_type": "code",
   "execution_count": 18,
   "metadata": {},
   "outputs": [],
   "source": [
    "bert_model_2_3 = pickle.load(open(\"BERT/bert_4_5.pkl\", 'rb'))"
   ]
  },
  {
   "cell_type": "code",
   "execution_count": 19,
   "metadata": {},
   "outputs": [
    {
     "name": "stdout",
     "output_type": "stream",
     "text": [
      "              precision    recall  f1-score   support\n",
      "\n",
      "           0       0.77      0.48      0.59       113\n",
      "           1       0.95      0.98      0.97      1536\n",
      "           2       0.95      0.94      0.94       351\n",
      "\n",
      "    accuracy                           0.95      2000\n",
      "   macro avg       0.89      0.80      0.83      2000\n",
      "weighted avg       0.94      0.95      0.94      2000\n",
      "\n"
     ]
    }
   ],
   "source": [
    "eval_preds, eval_labels = evaluate(bert_model_2_3, hx_test_loader)\n",
    "print(classification_report(eval_labels, eval_preds))"
   ]
  },
  {
   "cell_type": "code",
   "execution_count": 20,
   "metadata": {},
   "outputs": [],
   "source": [
    "bert_model_0_1 = freeze_bert_layers([\"transformer.layer.0\", \"transformer.layer.1\"])\n",
    "optimizer = optim.AdamW(bert_model_0_1.parameters(), lr=5e-5)"
   ]
  },
  {
   "cell_type": "code",
   "execution_count": 21,
   "metadata": {},
   "outputs": [
    {
     "name": "stdout",
     "output_type": "stream",
     "text": [
      "Epoch 1 Loss: 0.6835329532623291\n",
      "Epoch 2 Loss: 0.4059840440750122\n",
      "Epoch 3 Loss: 0.46923744678497314\n",
      "Epoch 4 Loss: 0.3757207989692688\n",
      "Epoch 5 Loss: 0.2743069529533386\n"
     ]
    }
   ],
   "source": [
    "train(bert_model_0_1, hx_train_loader, optimizer, 5)\n",
    "pickle.dump(bert_model_0_1, open(\"BERT/bert_0_1.pkl\", 'wb'))"
   ]
  },
  {
   "cell_type": "code",
   "execution_count": 22,
   "metadata": {},
   "outputs": [
    {
     "name": "stdout",
     "output_type": "stream",
     "text": [
      "              precision    recall  f1-score   support\n",
      "\n",
      "           0       0.00      0.00      0.00       113\n",
      "           1       0.91      0.98      0.95      1536\n",
      "           2       0.88      0.87      0.87       351\n",
      "\n",
      "    accuracy                           0.91      2000\n",
      "   macro avg       0.60      0.62      0.61      2000\n",
      "weighted avg       0.86      0.91      0.88      2000\n",
      "\n"
     ]
    }
   ],
   "source": [
    "eval_preds, eval_labels = evaluate(bert_model_0_1, hx_test_loader)\n",
    "print(classification_report(eval_labels, eval_preds))"
   ]
  }
 ],
 "metadata": {
  "kernelspec": {
   "display_name": "Python 3",
   "language": "python",
   "name": "python3"
  },
  "language_info": {
   "codemirror_mode": {
    "name": "ipython",
    "version": 3
   },
   "file_extension": ".py",
   "mimetype": "text/x-python",
   "name": "python",
   "nbconvert_exporter": "python",
   "pygments_lexer": "ipython3",
   "version": "3.12.6"
  },
  "orig_nbformat": 4
 },
 "nbformat": 4,
 "nbformat_minor": 2
}
