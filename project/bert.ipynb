{
 "cells": [
  {
   "cell_type": "code",
   "execution_count": 17,
   "metadata": {},
   "outputs": [],
   "source": [
    "# Pickle\n",
    "import pickle\n",
    "# Pandas\n",
    "import pandas as pd\n",
    "# Hugging Face\n",
    "from transformers import AutoTokenizer, AutoModelForSequenceClassification\n",
    "# PyTorch\n",
    "import torch \n",
    "import torch.optim as optim\n",
    "from torch.utils.data import DataLoader\n",
    "# SkLearn\n",
    "from sklearn.metrics import classification_report, accuracy_score\n",
    "from sklearn.model_selection import train_test_split"
   ]
  },
  {
   "cell_type": "code",
   "execution_count": 2,
   "metadata": {},
   "outputs": [],
   "source": [
    "## Datasets \n",
    "# Hate Xplain\n",
    "hate_xplain = pd.read_csv(\"data/hate_xplain.csv\")\n",
    "\n",
    "# Implicit Hate \n",
    "implicit_hate = pd.read_csv('data/implicit_hate_v1_stg2_posts.tsv', delimiter='\\t')\n",
    "label_map = {\n",
    "    'white_grievance': 0, 'incitement': 1, 'inferiority': 2,\n",
    "    'irony': 3, 'stereotypical': 4, 'threatening': 5, 'other': 6\n",
    "}\n",
    "implicit_hate['class_label'] = implicit_hate['implicit_class'].map(label_map)\n",
    "implicit_hate.drop(\"extra_implicit_class\", axis=1, inplace=True)"
   ]
  },
  {
   "cell_type": "code",
   "execution_count": 3,
   "metadata": {},
   "outputs": [
    {
     "data": {
      "text/html": [
       "<div>\n",
       "<style scoped>\n",
       "    .dataframe tbody tr th:only-of-type {\n",
       "        vertical-align: middle;\n",
       "    }\n",
       "\n",
       "    .dataframe tbody tr th {\n",
       "        vertical-align: top;\n",
       "    }\n",
       "\n",
       "    .dataframe thead th {\n",
       "        text-align: right;\n",
       "    }\n",
       "</style>\n",
       "<table border=\"1\" class=\"dataframe\">\n",
       "  <thead>\n",
       "    <tr style=\"text-align: right;\">\n",
       "      <th></th>\n",
       "      <th>Unnamed: 0</th>\n",
       "      <th>count</th>\n",
       "      <th>hate_speech</th>\n",
       "      <th>offensive_language</th>\n",
       "      <th>neither</th>\n",
       "      <th>class</th>\n",
       "      <th>tweet</th>\n",
       "    </tr>\n",
       "  </thead>\n",
       "  <tbody>\n",
       "    <tr>\n",
       "      <th>2281</th>\n",
       "      <td>2326</td>\n",
       "      <td>3</td>\n",
       "      <td>0</td>\n",
       "      <td>3</td>\n",
       "      <td>0</td>\n",
       "      <td>1</td>\n",
       "      <td>934 8616\\r\\ni got a missed call from yo bitch</td>\n",
       "    </tr>\n",
       "    <tr>\n",
       "      <th>15914</th>\n",
       "      <td>16283</td>\n",
       "      <td>3</td>\n",
       "      <td>0</td>\n",
       "      <td>3</td>\n",
       "      <td>0</td>\n",
       "      <td>1</td>\n",
       "      <td>RT @KINGTUNCHI_: Fucking with a bad bitch you ...</td>\n",
       "    </tr>\n",
       "    <tr>\n",
       "      <th>18943</th>\n",
       "      <td>19362</td>\n",
       "      <td>3</td>\n",
       "      <td>0</td>\n",
       "      <td>1</td>\n",
       "      <td>2</td>\n",
       "      <td>2</td>\n",
       "      <td>RT @eanahS__: @1inkkofrosess lol my credit ain...</td>\n",
       "    </tr>\n",
       "    <tr>\n",
       "      <th>16407</th>\n",
       "      <td>16780</td>\n",
       "      <td>3</td>\n",
       "      <td>0</td>\n",
       "      <td>3</td>\n",
       "      <td>0</td>\n",
       "      <td>1</td>\n",
       "      <td>RT @Maxin_Betha Wipe the cum out of them faggo...</td>\n",
       "    </tr>\n",
       "    <tr>\n",
       "      <th>13326</th>\n",
       "      <td>13654</td>\n",
       "      <td>3</td>\n",
       "      <td>1</td>\n",
       "      <td>2</td>\n",
       "      <td>0</td>\n",
       "      <td>1</td>\n",
       "      <td>Niggas cheat on they bitch and don't expect no...</td>\n",
       "    </tr>\n",
       "    <tr>\n",
       "      <th>...</th>\n",
       "      <td>...</td>\n",
       "      <td>...</td>\n",
       "      <td>...</td>\n",
       "      <td>...</td>\n",
       "      <td>...</td>\n",
       "      <td>...</td>\n",
       "      <td>...</td>\n",
       "    </tr>\n",
       "    <tr>\n",
       "      <th>2647</th>\n",
       "      <td>2710</td>\n",
       "      <td>3</td>\n",
       "      <td>0</td>\n",
       "      <td>3</td>\n",
       "      <td>0</td>\n",
       "      <td>1</td>\n",
       "      <td>@Bombfantasyyy @Angela_Mastr lmao angela you l...</td>\n",
       "    </tr>\n",
       "    <tr>\n",
       "      <th>13037</th>\n",
       "      <td>13357</td>\n",
       "      <td>3</td>\n",
       "      <td>0</td>\n",
       "      <td>3</td>\n",
       "      <td>0</td>\n",
       "      <td>1</td>\n",
       "      <td>My favorite is #picslip that's a dumb bitch, w...</td>\n",
       "    </tr>\n",
       "    <tr>\n",
       "      <th>5982</th>\n",
       "      <td>6153</td>\n",
       "      <td>3</td>\n",
       "      <td>1</td>\n",
       "      <td>2</td>\n",
       "      <td>0</td>\n",
       "      <td>1</td>\n",
       "      <td>@freddurst shut up faggot, no one cares</td>\n",
       "    </tr>\n",
       "    <tr>\n",
       "      <th>16621</th>\n",
       "      <td>17004</td>\n",
       "      <td>3</td>\n",
       "      <td>0</td>\n",
       "      <td>3</td>\n",
       "      <td>0</td>\n",
       "      <td>1</td>\n",
       "      <td>RT @Neonte: We was wearing shorts about a week...</td>\n",
       "    </tr>\n",
       "    <tr>\n",
       "      <th>23374</th>\n",
       "      <td>23860</td>\n",
       "      <td>3</td>\n",
       "      <td>0</td>\n",
       "      <td>3</td>\n",
       "      <td>0</td>\n",
       "      <td>1</td>\n",
       "      <td>You little twats.</td>\n",
       "    </tr>\n",
       "  </tbody>\n",
       "</table>\n",
       "<p>1000 rows × 7 columns</p>\n",
       "</div>"
      ],
      "text/plain": [
       "       Unnamed: 0  count  hate_speech  offensive_language  neither  class  \\\n",
       "2281         2326      3            0                   3        0      1   \n",
       "15914       16283      3            0                   3        0      1   \n",
       "18943       19362      3            0                   1        2      2   \n",
       "16407       16780      3            0                   3        0      1   \n",
       "13326       13654      3            1                   2        0      1   \n",
       "...           ...    ...          ...                 ...      ...    ...   \n",
       "2647         2710      3            0                   3        0      1   \n",
       "13037       13357      3            0                   3        0      1   \n",
       "5982         6153      3            1                   2        0      1   \n",
       "16621       17004      3            0                   3        0      1   \n",
       "23374       23860      3            0                   3        0      1   \n",
       "\n",
       "                                                   tweet  \n",
       "2281       934 8616\\r\\ni got a missed call from yo bitch  \n",
       "15914  RT @KINGTUNCHI_: Fucking with a bad bitch you ...  \n",
       "18943  RT @eanahS__: @1inkkofrosess lol my credit ain...  \n",
       "16407  RT @Maxin_Betha Wipe the cum out of them faggo...  \n",
       "13326  Niggas cheat on they bitch and don't expect no...  \n",
       "...                                                  ...  \n",
       "2647   @Bombfantasyyy @Angela_Mastr lmao angela you l...  \n",
       "13037  My favorite is #picslip that's a dumb bitch, w...  \n",
       "5982             @freddurst shut up faggot, no one cares  \n",
       "16621  RT @Neonte: We was wearing shorts about a week...  \n",
       "23374                                  You little twats.  \n",
       "\n",
       "[1000 rows x 7 columns]"
      ]
     },
     "execution_count": 3,
     "metadata": {},
     "output_type": "execute_result"
    }
   ],
   "source": [
    "hate_xplain = hate_xplain.sample(n=1000, random_state=42)\n",
    "hate_xplain"
   ]
  },
  {
   "cell_type": "code",
   "execution_count": 4,
   "metadata": {},
   "outputs": [],
   "source": [
    "def tokenize_data(texts, labels, tokenizer, max_length):\n",
    "    if isinstance(texts, pd.Series):\n",
    "        texts = texts.tolist()\n",
    "    texts = [str(text) for text in texts] \n",
    "\n",
    "    if isinstance(labels, pd.Series):\n",
    "        labels = labels.tolist()\n",
    "    labels = torch.tensor(labels, dtype=torch.long)\n",
    "    \n",
    "    encodings = tokenizer(texts, truncation=True, padding='max_length', max_length=max_length, return_tensors=\"pt\")\n",
    "    dataset = torch.utils.data.TensorDataset(encodings[\"input_ids\"], encodings[\"attention_mask\"], labels)\n",
    "    return dataset\n"
   ]
  },
  {
   "cell_type": "code",
   "execution_count": null,
   "metadata": {},
   "outputs": [
    {
     "name": "stderr",
     "output_type": "stream",
     "text": [
      "Some weights of BertForSequenceClassification were not initialized from the model checkpoint at bert-base-uncased and are newly initialized: ['classifier.bias', 'classifier.weight']\n",
      "You should probably TRAIN this model on a down-stream task to be able to use it for predictions and inference.\n"
     ]
    }
   ],
   "source": [
    "bert = 'bert-base-uncased'\n",
    "bert_model = AutoModelForSequenceClassification.from_pretrained(\n",
    "    bert, num_labels=3, \n",
    "    id2label={0: \"hate speech\", 1: \"normal\", 2: \"offensive\"}, \n",
    "    label2id={\"hate speech\": 0, \"normal\": 1, \"offensive\": 2}, max_length=128\n",
    "    )"
   ]
  },
  {
   "cell_type": "code",
   "execution_count": 6,
   "metadata": {},
   "outputs": [],
   "source": [
    "hx_train_text, hx_test_text, hx_train_labels, hx_test_labels = train_test_split(hate_xplain['tweet'], hate_xplain['class'], test_size=0.2)\n",
    "\n",
    "tokenizer = AutoTokenizer.from_pretrained(bert, clean_up_tokenization_spaces=True)\n",
    "hx_train = tokenize_data(hx_train_text, hx_train_labels, tokenizer, 512)\n",
    "hx_test = tokenize_data(hx_test_text, hx_test_labels, tokenizer, 512)\n",
    "\n",
    "hx_train_loader = DataLoader(hx_train, batch_size=16, shuffle=True)\n",
    "hx_test_loader = DataLoader(hx_test, batch_size=16, shuffle=True)"
   ]
  },
  {
   "cell_type": "code",
   "execution_count": 7,
   "metadata": {},
   "outputs": [
    {
     "data": {
      "text/plain": [
       "(50, 13)"
      ]
     },
     "execution_count": 7,
     "metadata": {},
     "output_type": "execute_result"
    }
   ],
   "source": [
    "hx_train_loader.__len__(), hx_test_loader.__len__()"
   ]
  },
  {
   "cell_type": "code",
   "execution_count": 16,
   "metadata": {},
   "outputs": [],
   "source": [
    "def train(model, data_loader, optimizer, epochs, device=None):\n",
    "    device = device or ('cuda' if torch.cuda.is_available() else 'cpu')\n",
    "    model.to(device)\n",
    "    model.train()\n",
    "\n",
    "    for epoch in range(epochs):\n",
    "        for input_ids, attention_mask, labels in data_loader:\n",
    "            input_ids, attention_mask, labels = input_ids.to(device), attention_mask.to(device), labels.to(device)\n",
    "\n",
    "            optimizer.zero_grad()\n",
    "            outputs = model(input_ids, attention_mask=attention_mask, labels=labels)\n",
    "            loss = outputs.loss\n",
    "            loss.backward()\n",
    "            optimizer.step()\n",
    "        print(f\"Epoch {epoch+1} Loss: {loss.item()}\")\n",
    "\n",
    "def evaluate(model, data_loader, device=None):\n",
    "    model.eval()\n",
    "    model.to(device)\n",
    "\n",
    "    all_preds, all_labels = [], []\n",
    "    with torch.no_grad():\n",
    "        for batch in data_loader:\n",
    "            input_ids, attention_mask, labels = tuple(t.to(device) for t in batch)\n",
    "            outputs = model(input_ids, attention_mask=attention_mask, labels=labels)\n",
    "            logits = outputs.logits\n",
    "            preds = torch.argmax(logits, dim=1)\n",
    "            all_preds.extend(preds.cpu().numpy())\n",
    "            all_labels.extend(labels.cpu().numpy())\n",
    "\n",
    "    return all_preds, all_labels"
   ]
  },
  {
   "cell_type": "code",
   "execution_count": 9,
   "metadata": {},
   "outputs": [
    {
     "name": "stdout",
     "output_type": "stream",
     "text": [
      "Epoch 1 Loss: 0.6196829080581665\n",
      "Epoch 2 Loss: 0.2246900349855423\n",
      "Epoch 3 Loss: 0.21478521823883057\n",
      "Epoch 4 Loss: 0.09045412391424179\n",
      "Epoch 5 Loss: 0.05214119330048561\n"
     ]
    }
   ],
   "source": [
    "optimizer = optim.AdamW(bert_model.parameters(), lr=5e-5)\n",
    "train(bert_model, hx_train_loader, optimizer, 5, 'cuda')\n",
    "pickle.dump(bert_model, open(\"BERT/bert.pkl\", 'wb'))"
   ]
  },
  {
   "cell_type": "code",
   "execution_count": null,
   "metadata": {},
   "outputs": [],
   "source": [
    "hx_preds, hx_labels = evaluate(bert_model, hx_test_loader, 'cuda')\n",
    "print(accuracy_score(hx_labels, hx_preds))"
   ]
  },
  {
   "cell_type": "code",
   "execution_count": 10,
   "metadata": {},
   "outputs": [],
   "source": [
    "# train with all attention heads -> after training knock out attention heads at evaluation, at one head is more important than the other \n",
    "# attention heads -- overwrite model params to zeros -- output of attention head is zero'd out* -- little weird (average ?) \n",
    "#   set of weights for attention head -> knock out by (output is weighted sum) - intervene on output?, zero'd out keys weights \n",
    "## TODO: 1000 sampeles for training \n",
    "# transfer learning -> train on one dataset, evaluate on another dataset\n",
    "#   *perhaps train on all 3 datasets, transfer on all 3 datasets*"
   ]
  }
 ],
 "metadata": {
  "kernelspec": {
   "display_name": "Python 3",
   "language": "python",
   "name": "python3"
  },
  "language_info": {
   "codemirror_mode": {
    "name": "ipython",
    "version": 3
   },
   "file_extension": ".py",
   "mimetype": "text/x-python",
   "name": "python",
   "nbconvert_exporter": "python",
   "pygments_lexer": "ipython3",
   "version": "3.12.6"
  },
  "orig_nbformat": 4
 },
 "nbformat": 4,
 "nbformat_minor": 2
}
