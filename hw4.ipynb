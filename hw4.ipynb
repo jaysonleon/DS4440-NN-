{
 "cells": [
  {
   "cell_type": "markdown",
   "metadata": {
    "id": "WBD7fdGBQmL0"
   },
   "source": [
    "# HW4: ConvNets and activation patching\n",
    "\n",
    "In this assignment you will implement a CNN for the [CIFAR-10](https://www.cs.toronto.edu/~kriz/cifar.html) image classification dataset. Then you'll use `NNSight` to do some cool interpretability analysis (specifically, *activation patching*)."
   ]
  },
  {
   "cell_type": "markdown",
   "metadata": {
    "id": "LmT05Ol1xcfp"
   },
   "source": [
    "##Q1: Implement a simple CNN (20 points)\n",
    "\n",
    "Begin by implementing a simple image classification CNN in pytorch. To do this, populate the `__init__` and `forward` methods. For now, your CNN can just be composed of two convolution layers and a linear layer."
   ]
  },
  {
   "cell_type": "code",
   "execution_count": 3,
   "metadata": {
    "id": "7UbUx5R6Emqr"
   },
   "outputs": [],
   "source": [
    "import torch\n",
    "from torch import nn\n",
    "import torch.nn.functional as F\n",
    "\n",
    "import torchvision\n",
    "from torchvision import transforms\n",
    "\n",
    "import matplotlib.pyplot as plt"
   ]
  },
  {
   "cell_type": "code",
   "execution_count": 4,
   "metadata": {
    "id": "uc1GZOqfGLVt"
   },
   "outputs": [],
   "source": [
    "# Starter code\n",
    "\n",
    "# A simple convolutional neural network (two convolutional layers)\n",
    "class SimpleCNN(nn.Module):\n",
    "    def __init__(self, num_classes=10):\n",
    "        super(SimpleCNN, self).__init__()\n",
    "        self.layer1 = nn.Sequential(\n",
    "            nn.Conv2d(3, 16, kernel_size=5, stride=1, padding=2),\n",
    "            nn.BatchNorm2d(16),\n",
    "            nn.ReLU(),\n",
    "            nn.MaxPool2d(kernel_size=2, stride=2))\n",
    "        self.layer2 = nn.Sequential(\n",
    "            nn.Conv2d(16, 32, kernel_size=5, stride=1, padding=2),\n",
    "            nn.BatchNorm2d(32),\n",
    "            nn.ReLU(),\n",
    "            nn.MaxPool2d(kernel_size=2, stride=2))\n",
    "        self.fc = nn.Linear(8*8*32, num_classes)\n",
    "\n",
    "    def forward(self, x):\n",
    "        out = self.layer1(x)\n",
    "        out = self.layer2(out)\n",
    "        out = out.reshape(out.size(0), -1)\n",
    "        out = self.fc(out)\n",
    "        return out"
   ]
  },
  {
   "cell_type": "markdown",
   "metadata": {
    "id": "Q8bvZ9gFxhT-"
   },
   "source": [
    "##Q2: Train the thing (10 points)\n",
    "\n",
    "Now write a training loop for your simple CNN. You should use early stopping with a validation set. Implement the train and evaluate functions.\n",
    "\n",
    "Train should take a model which subclasses nn.Module, two DataLoaders, and an optimizer (see [torch.optim](https://https://pytorch.org/docs/stable/optim.html)), as well as a maximum epoch count and a patience for the early stopping. It may be helpful in the next question for train to return the performance on the validation set at each epoch.\n",
    "\n",
    "Evaluate should take a model which subclasses nn.Module and a DataLoader. It should return both the overall model accuracy as well as the per class accuracy for each class."
   ]
  },
  {
   "cell_type": "code",
   "execution_count": 5,
   "metadata": {
    "colab": {
     "base_uri": "https://localhost:8080/"
    },
    "id": "SGVWlPV6FO1S",
    "outputId": "460c47a7-9a24-4904-97da-6b6fb94e1110"
   },
   "outputs": [
    {
     "name": "stdout",
     "output_type": "stream",
     "text": [
      "Files already downloaded and verified\n",
      "Files already downloaded and verified\n"
     ]
    }
   ],
   "source": [
    "train_set = torchvision.datasets.CIFAR10(\"./data\", download=True, transform=\n",
    "                                                transforms.Compose([transforms.ToTensor()]))\n",
    "test_set = torchvision.datasets.CIFAR10(\"./data\", download=True, train=False, transform=\n",
    "                                               transforms.Compose([transforms.ToTensor()]))"
   ]
  },
  {
   "cell_type": "code",
   "execution_count": 10,
   "metadata": {
    "id": "ZvEzETVr5EL9"
   },
   "outputs": [],
   "source": [
    "# Starter code\n",
    "device = 'cuda'\n",
    "num_classes = 10\n",
    "\n",
    "def train(model, train_loader, val_loader, optimizer, epochs, patience=3):\n",
    "    criterion = nn.CrossEntropyLoss()\n",
    "    best_val_acc = 0\n",
    "    patience_counter = 0\n",
    "    accs = []\n",
    "    \n",
    "    for epoch in range(epochs):\n",
    "        model.train()\n",
    "        for i, (images, labels) in enumerate(train_loader): \n",
    "            images = images.to(device)\n",
    "            labels = labels.to(device)\n",
    "\n",
    "            outputs = model(images)\n",
    "            loss = criterion(outputs, labels)\n",
    "            \n",
    "            optimizer.zero_grad()\n",
    "            loss.backward()\n",
    "            optimizer.step()\n",
    "    \n",
    "        val_acc = evaluate(model, val_loader)\n",
    "        accs.append(val_acc)\n",
    "\n",
    "        if val_acc > best_val_acc:\n",
    "            best_val_acc = val_acc\n",
    "            patience_counter = 0\n",
    "        else: \n",
    "            patience_counter += 1\n",
    "            if patience_counter >= patience:\n",
    "                print(f\"Early stopping at epoch {epoch}\")\n",
    "                break\n",
    "    return accs\n",
    "\n",
    "\n",
    "# TODO: accuracy for each class \n",
    "def evaluate(model, test_loader):\n",
    "    model.eval()\n",
    "    correct = 0\n",
    "    total = 0\n",
    "    with torch.no_grad():\n",
    "        for images, labels in test_loader:\n",
    "            images = images.to(device)\n",
    "            labels = labels.to(device)\n",
    "            outputs = model(images)\n",
    "            _, predicted = torch.max(outputs.data, 1)\n",
    "            total += labels.size(0)\n",
    "            correct += (predicted == labels).sum().item()\n",
    "    return correct / total"
   ]
  },
  {
   "cell_type": "markdown",
   "metadata": {
    "id": "kx7CXQXU7nB-"
   },
   "source": [
    "Now create a validation split and use the train and evaluate methods to train your model."
   ]
  },
  {
   "cell_type": "code",
   "execution_count": 6,
   "metadata": {},
   "outputs": [
    {
     "name": "stdout",
     "output_type": "stream",
     "text": [
      "Train loader: 40000. Val loader: 10000. Test loader: 10000\n"
     ]
    }
   ],
   "source": [
    "train_set, val_set = torch.utils.data.random_split(train_set, [40000, 10000])\n",
    "\n",
    "train_loader = torch.utils.data.DataLoader(train_set, batch_size=64, shuffle=True)\n",
    "val_loader = torch.utils.data.DataLoader(val_set, batch_size=64, shuffle=False)\n",
    "test_loader = torch.utils.data.DataLoader(test_set, batch_size=64, shuffle=False)\n",
    "\n",
    "print(f'Train loader: {len(train_loader.dataset)}. Val loader: {len(val_loader.dataset)}. Test loader: {len(test_loader.dataset)}')"
   ]
  },
  {
   "cell_type": "code",
   "execution_count": 8,
   "metadata": {
    "colab": {
     "base_uri": "https://localhost:8080/"
    },
    "id": "dsStkhcy_TF1",
    "outputId": "178228ca-a952-4fd5-89c0-4f8473537042"
   },
   "outputs": [
    {
     "name": "stdout",
     "output_type": "stream",
     "text": [
      "Early stopping at epoch 17\n",
      "Best Validation accuracy(Adam):  0.6763\n",
      "Test accuracy(Adam):  0.6031\n"
     ]
    }
   ],
   "source": [
    "model = SimpleCNN(num_classes).to(device)\n",
    "adam = torch.optim.Adam(model.parameters(), lr=0.01)\n",
    "\n",
    "valAccs_adam = train(model, train_loader, val_loader, adam, epochs=20, patience=5)\n",
    "testAcc = evaluate(model, test_loader)\n",
    "print(\"Best Validation accuracy(Adam): \", max(valAccs_adam))\n",
    "print(\"Test accuracy(Adam): \", testAcc)"
   ]
  },
  {
   "cell_type": "markdown",
   "metadata": {
    "id": "mF_1GrDixm58"
   },
   "source": [
    "##Q3: Compare optimization methods (10 points)\n",
    "\n",
    "Now train the model with different optimizers and compare the performance. Try using the following optimizers:\n",
    "* SGD\n",
    "* Nesterov Gradient Descent\n",
    "* Adagrad\n",
    "* RMSProp\n",
    "* Adam\n",
    "\n",
    "Then plot the validation performance at each epoch and compare the optimizers."
   ]
  },
  {
   "cell_type": "code",
   "execution_count": 9,
   "metadata": {
    "colab": {
     "base_uri": "https://localhost:8080/",
     "height": 486
    },
    "id": "V1lN1hSiK38t",
    "outputId": "c1832b33-7322-48c7-f5ad-8fc5d0b93b52"
   },
   "outputs": [
    {
     "name": "stdout",
     "output_type": "stream",
     "text": [
      "Early stopping at epoch 12\n",
      "Early stopping at epoch 7\n",
      "Early stopping at epoch 8\n",
      "Early stopping at epoch 13\n"
     ]
    },
    {
     "data": {
      "image/png": "[encoded data removed]",
      "text/plain": [
       "<Figure size 640x480 with 1 Axes>"
      ]
     },
     "metadata": {},
     "output_type": "display_data"
    }
   ],
   "source": [
    "sgd = torch.optim.SGD(model.parameters(), lr=0.01)\n",
    "valAccs_sgd = train(model, train_loader, val_loader, sgd, epochs=20, patience=5)\n",
    "\n",
    "ngd = torch.optim.SGD(model.parameters(), lr=0.01, nesterov=True, momentum=0.9)\n",
    "valAccs_ngd = train(model, train_loader, val_loader, ngd, epochs=20, patience=5)\n",
    "\n",
    "adagrad = torch.optim.Adagrad(model.parameters(), lr=0.01)\n",
    "valAccs_adagrad = train(model, train_loader, val_loader, adagrad, epochs=20, patience=5)\n",
    "\n",
    "rmsprop = torch.optim.RMSprop(model.parameters(), lr=0.01)\n",
    "valAccs_rmsprop = train(model, train_loader, val_loader, rmsprop, epochs=20, patience=5)\n",
    "\n",
    "plt.plot(valAccs_adam, label='Adam')\n",
    "plt.plot(valAccs_sgd, label='SGD')\n",
    "plt.plot(valAccs_ngd, label='Nesterov')\n",
    "plt.plot(valAccs_adagrad, label='Adagrad')\n",
    "plt.plot(valAccs_rmsprop, label='RMSprop')\n",
    "plt.xlabel('Epoch')\n",
    "plt.ylabel('Validation Accuracy')\n",
    "plt.legend()\n",
    "plt.show()"
   ]
  },
  {
   "cell_type": "markdown",
   "metadata": {
    "id": "qmwKMar41nkK"
   },
   "source": [
    "##Q4: Make a more accurate CNN (10 points)\n",
    "\n",
    "At this point, your model's performance should still be relatively low (probably ~60%), even with the best optimization method.\n",
    "\n",
    "To improve further, you'll need to modify your architecture. Define a model that has an arbitrary number of convolution layers before a fully connected layer. Implement the `__init__` and `forward` methods below. The `__init__` method should take a convolutions parameter that controls the number of convolution layers in the model."
   ]
  },
  {
   "cell_type": "code",
   "execution_count": 21,
   "metadata": {
    "colab": {
     "background_save": true
    },
    "id": "83Ge8rrc1lnI"
   },
   "outputs": [],
   "source": [
    "# Starter code\n",
    "\n",
    "# A convolutional neural network with arbitrary depth\n",
    "class MultiLayeredCNN(nn.Module):\n",
    "    def __init__(self, convolutions: list, num_classes: int = 10):\n",
    "        super(MultiLayeredCNN, self).__init__()\n",
    "        layers = []\n",
    "        for i in range(len(convolutions)-1):\n",
    "            in_channels = convolutions[i]\n",
    "            out_channels = convolutions[i+1] \n",
    "            layers.append(nn.Conv2d(in_channels, out_channels, kernel_size=3, stride=1, padding=1))\n",
    "            layers.append(nn.BatchNorm2d(out_channels))\n",
    "            layers.append(nn.ReLU())\n",
    "            layers.append(nn.MaxPool2d(kernel_size=2, stride=2))\n",
    "        self.conv = nn.Sequential(*layers)\n",
    "        self.fc = nn.Linear(8 * 8 * (convolutions[-1]), num_classes) \n",
    "        \n",
    "\n",
    "        \n",
    "\n",
    "    def forward(self, x):\n",
    "        x = self.conv(x)\n",
    "        x = x.reshape(x.size(0), -1)\n",
    "        x = self.fc(x)\n",
    "        return x"
   ]
  },
  {
   "cell_type": "markdown",
   "metadata": {
    "id": "keb6gjs-yFoM"
   },
   "source": [
    "Now create and train models with varying numbers of convolution layers. You should create a model with 2, 3, and 4 convolution layers each. Record their performance on the validation set at each epoch and plot the results below to compare the models."
   ]
  },
  {
   "cell_type": "code",
   "execution_count": 23,
   "metadata": {
    "colab": {
     "base_uri": "https://localhost:8080/",
     "height": 486
    },
    "id": "S7UnEMgASH37",
    "outputId": "e6291500-0d26-47a9-dba4-ff5df65863f3"
   },
   "outputs": [
    {
     "ename": "RuntimeError",
     "evalue": "mat1 and mat2 shapes cannot be multiplied (64x1024 and 4096x10)",
     "output_type": "error",
     "traceback": [
      "\u001b[1;31m---------------------------------------------------------------------------\u001b[0m",
      "\u001b[1;31mRuntimeError\u001b[0m                              Traceback (most recent call last)",
      "Cell \u001b[1;32mIn[23], line 8\u001b[0m\n\u001b[0;32m      6\u001b[0m CNN3L \u001b[38;5;241m=\u001b[39m MultiLayeredCNN([\u001b[38;5;241m3\u001b[39m, \u001b[38;5;241m16\u001b[39m, \u001b[38;5;241m32\u001b[39m, \u001b[38;5;241m64\u001b[39m])\u001b[38;5;241m.\u001b[39mto(device)\n\u001b[0;32m      7\u001b[0m grad \u001b[38;5;241m=\u001b[39m torch\u001b[38;5;241m.\u001b[39moptim\u001b[38;5;241m.\u001b[39mSGD(CNN3L\u001b[38;5;241m.\u001b[39mparameters(), lr\u001b[38;5;241m=\u001b[39m\u001b[38;5;241m0.01\u001b[39m)\n\u001b[1;32m----> 8\u001b[0m valAccs_3L \u001b[38;5;241m=\u001b[39m \u001b[43mtrain\u001b[49m\u001b[43m(\u001b[49m\u001b[43mCNN3L\u001b[49m\u001b[43m,\u001b[49m\u001b[43m \u001b[49m\u001b[43mtrain_loader\u001b[49m\u001b[43m,\u001b[49m\u001b[43m \u001b[49m\u001b[43mval_loader\u001b[49m\u001b[43m,\u001b[49m\u001b[43m \u001b[49m\u001b[43mgrad\u001b[49m\u001b[43m,\u001b[49m\u001b[43m \u001b[49m\u001b[43mepochs\u001b[49m\u001b[38;5;241;43m=\u001b[39;49m\u001b[38;5;241;43m1\u001b[39;49m\u001b[43m,\u001b[49m\u001b[43m \u001b[49m\u001b[43mpatience\u001b[49m\u001b[38;5;241;43m=\u001b[39;49m\u001b[38;5;241;43m5\u001b[39;49m\u001b[43m)\u001b[49m\n\u001b[0;32m     10\u001b[0m CNN4L \u001b[38;5;241m=\u001b[39m MultiLayeredCNN([\u001b[38;5;241m3\u001b[39m, \u001b[38;5;241m16\u001b[39m, \u001b[38;5;241m32\u001b[39m, \u001b[38;5;241m64\u001b[39m, \u001b[38;5;241m128\u001b[39m])\u001b[38;5;241m.\u001b[39mto(device)\n\u001b[0;32m     11\u001b[0m grad \u001b[38;5;241m=\u001b[39m torch\u001b[38;5;241m.\u001b[39moptim\u001b[38;5;241m.\u001b[39mSGD(CNN4L\u001b[38;5;241m.\u001b[39mparameters(), lr\u001b[38;5;241m=\u001b[39m\u001b[38;5;241m0.01\u001b[39m)\n",
      "Cell \u001b[1;32mIn[10], line 17\u001b[0m, in \u001b[0;36mtrain\u001b[1;34m(model, train_loader, val_loader, optimizer, epochs, patience)\u001b[0m\n\u001b[0;32m     14\u001b[0m images \u001b[38;5;241m=\u001b[39m images\u001b[38;5;241m.\u001b[39mto(device)\n\u001b[0;32m     15\u001b[0m labels \u001b[38;5;241m=\u001b[39m labels\u001b[38;5;241m.\u001b[39mto(device)\n\u001b[1;32m---> 17\u001b[0m outputs \u001b[38;5;241m=\u001b[39m \u001b[43mmodel\u001b[49m\u001b[43m(\u001b[49m\u001b[43mimages\u001b[49m\u001b[43m)\u001b[49m\n\u001b[0;32m     18\u001b[0m loss \u001b[38;5;241m=\u001b[39m criterion(outputs, labels)\n\u001b[0;32m     20\u001b[0m optimizer\u001b[38;5;241m.\u001b[39mzero_grad()\n",
      "File \u001b[1;32m~\\AppData\\Local\\Packages\\PythonSoftwareFoundation.Python.3.12_qbz5n2kfra8p0\\LocalCache\\local-packages\\Python312\\site-packages\\torch\\nn\\modules\\module.py:1553\u001b[0m, in \u001b[0;36mModule._wrapped_call_impl\u001b[1;34m(self, *args, **kwargs)\u001b[0m\n\u001b[0;32m   1551\u001b[0m     \u001b[38;5;28;01mreturn\u001b[39;00m \u001b[38;5;28mself\u001b[39m\u001b[38;5;241m.\u001b[39m_compiled_call_impl(\u001b[38;5;241m*\u001b[39margs, \u001b[38;5;241m*\u001b[39m\u001b[38;5;241m*\u001b[39mkwargs)  \u001b[38;5;66;03m# type: ignore[misc]\u001b[39;00m\n\u001b[0;32m   1552\u001b[0m \u001b[38;5;28;01melse\u001b[39;00m:\n\u001b[1;32m-> 1553\u001b[0m     \u001b[38;5;28;01mreturn\u001b[39;00m \u001b[38;5;28;43mself\u001b[39;49m\u001b[38;5;241;43m.\u001b[39;49m\u001b[43m_call_impl\u001b[49m\u001b[43m(\u001b[49m\u001b[38;5;241;43m*\u001b[39;49m\u001b[43margs\u001b[49m\u001b[43m,\u001b[49m\u001b[43m \u001b[49m\u001b[38;5;241;43m*\u001b[39;49m\u001b[38;5;241;43m*\u001b[39;49m\u001b[43mkwargs\u001b[49m\u001b[43m)\u001b[49m\n",
      "File \u001b[1;32m~\\AppData\\Local\\Packages\\PythonSoftwareFoundation.Python.3.12_qbz5n2kfra8p0\\LocalCache\\local-packages\\Python312\\site-packages\\torch\\nn\\modules\\module.py:1562\u001b[0m, in \u001b[0;36mModule._call_impl\u001b[1;34m(self, *args, **kwargs)\u001b[0m\n\u001b[0;32m   1557\u001b[0m \u001b[38;5;66;03m# If we don't have any hooks, we want to skip the rest of the logic in\u001b[39;00m\n\u001b[0;32m   1558\u001b[0m \u001b[38;5;66;03m# this function, and just call forward.\u001b[39;00m\n\u001b[0;32m   1559\u001b[0m \u001b[38;5;28;01mif\u001b[39;00m \u001b[38;5;129;01mnot\u001b[39;00m (\u001b[38;5;28mself\u001b[39m\u001b[38;5;241m.\u001b[39m_backward_hooks \u001b[38;5;129;01mor\u001b[39;00m \u001b[38;5;28mself\u001b[39m\u001b[38;5;241m.\u001b[39m_backward_pre_hooks \u001b[38;5;129;01mor\u001b[39;00m \u001b[38;5;28mself\u001b[39m\u001b[38;5;241m.\u001b[39m_forward_hooks \u001b[38;5;129;01mor\u001b[39;00m \u001b[38;5;28mself\u001b[39m\u001b[38;5;241m.\u001b[39m_forward_pre_hooks\n\u001b[0;32m   1560\u001b[0m         \u001b[38;5;129;01mor\u001b[39;00m _global_backward_pre_hooks \u001b[38;5;129;01mor\u001b[39;00m _global_backward_hooks\n\u001b[0;32m   1561\u001b[0m         \u001b[38;5;129;01mor\u001b[39;00m _global_forward_hooks \u001b[38;5;129;01mor\u001b[39;00m _global_forward_pre_hooks):\n\u001b[1;32m-> 1562\u001b[0m     \u001b[38;5;28;01mreturn\u001b[39;00m \u001b[43mforward_call\u001b[49m\u001b[43m(\u001b[49m\u001b[38;5;241;43m*\u001b[39;49m\u001b[43margs\u001b[49m\u001b[43m,\u001b[49m\u001b[43m \u001b[49m\u001b[38;5;241;43m*\u001b[39;49m\u001b[38;5;241;43m*\u001b[39;49m\u001b[43mkwargs\u001b[49m\u001b[43m)\u001b[49m\n\u001b[0;32m   1564\u001b[0m \u001b[38;5;28;01mtry\u001b[39;00m:\n\u001b[0;32m   1565\u001b[0m     result \u001b[38;5;241m=\u001b[39m \u001b[38;5;28;01mNone\u001b[39;00m\n",
      "Cell \u001b[1;32mIn[21], line 24\u001b[0m, in \u001b[0;36mMultiLayeredCNN.forward\u001b[1;34m(self, x)\u001b[0m\n\u001b[0;32m     22\u001b[0m x \u001b[38;5;241m=\u001b[39m \u001b[38;5;28mself\u001b[39m\u001b[38;5;241m.\u001b[39mconv(x)\n\u001b[0;32m     23\u001b[0m x \u001b[38;5;241m=\u001b[39m x\u001b[38;5;241m.\u001b[39mreshape(x\u001b[38;5;241m.\u001b[39msize(\u001b[38;5;241m0\u001b[39m), \u001b[38;5;241m-\u001b[39m\u001b[38;5;241m1\u001b[39m)\n\u001b[1;32m---> 24\u001b[0m x \u001b[38;5;241m=\u001b[39m \u001b[38;5;28;43mself\u001b[39;49m\u001b[38;5;241;43m.\u001b[39;49m\u001b[43mfc\u001b[49m\u001b[43m(\u001b[49m\u001b[43mx\u001b[49m\u001b[43m)\u001b[49m\n\u001b[0;32m     25\u001b[0m \u001b[38;5;28;01mreturn\u001b[39;00m x\n",
      "File \u001b[1;32m~\\AppData\\Local\\Packages\\PythonSoftwareFoundation.Python.3.12_qbz5n2kfra8p0\\LocalCache\\local-packages\\Python312\\site-packages\\torch\\nn\\modules\\module.py:1553\u001b[0m, in \u001b[0;36mModule._wrapped_call_impl\u001b[1;34m(self, *args, **kwargs)\u001b[0m\n\u001b[0;32m   1551\u001b[0m     \u001b[38;5;28;01mreturn\u001b[39;00m \u001b[38;5;28mself\u001b[39m\u001b[38;5;241m.\u001b[39m_compiled_call_impl(\u001b[38;5;241m*\u001b[39margs, \u001b[38;5;241m*\u001b[39m\u001b[38;5;241m*\u001b[39mkwargs)  \u001b[38;5;66;03m# type: ignore[misc]\u001b[39;00m\n\u001b[0;32m   1552\u001b[0m \u001b[38;5;28;01melse\u001b[39;00m:\n\u001b[1;32m-> 1553\u001b[0m     \u001b[38;5;28;01mreturn\u001b[39;00m \u001b[38;5;28;43mself\u001b[39;49m\u001b[38;5;241;43m.\u001b[39;49m\u001b[43m_call_impl\u001b[49m\u001b[43m(\u001b[49m\u001b[38;5;241;43m*\u001b[39;49m\u001b[43margs\u001b[49m\u001b[43m,\u001b[49m\u001b[43m \u001b[49m\u001b[38;5;241;43m*\u001b[39;49m\u001b[38;5;241;43m*\u001b[39;49m\u001b[43mkwargs\u001b[49m\u001b[43m)\u001b[49m\n",
      "File \u001b[1;32m~\\AppData\\Local\\Packages\\PythonSoftwareFoundation.Python.3.12_qbz5n2kfra8p0\\LocalCache\\local-packages\\Python312\\site-packages\\torch\\nn\\modules\\module.py:1562\u001b[0m, in \u001b[0;36mModule._call_impl\u001b[1;34m(self, *args, **kwargs)\u001b[0m\n\u001b[0;32m   1557\u001b[0m \u001b[38;5;66;03m# If we don't have any hooks, we want to skip the rest of the logic in\u001b[39;00m\n\u001b[0;32m   1558\u001b[0m \u001b[38;5;66;03m# this function, and just call forward.\u001b[39;00m\n\u001b[0;32m   1559\u001b[0m \u001b[38;5;28;01mif\u001b[39;00m \u001b[38;5;129;01mnot\u001b[39;00m (\u001b[38;5;28mself\u001b[39m\u001b[38;5;241m.\u001b[39m_backward_hooks \u001b[38;5;129;01mor\u001b[39;00m \u001b[38;5;28mself\u001b[39m\u001b[38;5;241m.\u001b[39m_backward_pre_hooks \u001b[38;5;129;01mor\u001b[39;00m \u001b[38;5;28mself\u001b[39m\u001b[38;5;241m.\u001b[39m_forward_hooks \u001b[38;5;129;01mor\u001b[39;00m \u001b[38;5;28mself\u001b[39m\u001b[38;5;241m.\u001b[39m_forward_pre_hooks\n\u001b[0;32m   1560\u001b[0m         \u001b[38;5;129;01mor\u001b[39;00m _global_backward_pre_hooks \u001b[38;5;129;01mor\u001b[39;00m _global_backward_hooks\n\u001b[0;32m   1561\u001b[0m         \u001b[38;5;129;01mor\u001b[39;00m _global_forward_hooks \u001b[38;5;129;01mor\u001b[39;00m _global_forward_pre_hooks):\n\u001b[1;32m-> 1562\u001b[0m     \u001b[38;5;28;01mreturn\u001b[39;00m \u001b[43mforward_call\u001b[49m\u001b[43m(\u001b[49m\u001b[38;5;241;43m*\u001b[39;49m\u001b[43margs\u001b[49m\u001b[43m,\u001b[49m\u001b[43m \u001b[49m\u001b[38;5;241;43m*\u001b[39;49m\u001b[38;5;241;43m*\u001b[39;49m\u001b[43mkwargs\u001b[49m\u001b[43m)\u001b[49m\n\u001b[0;32m   1564\u001b[0m \u001b[38;5;28;01mtry\u001b[39;00m:\n\u001b[0;32m   1565\u001b[0m     result \u001b[38;5;241m=\u001b[39m \u001b[38;5;28;01mNone\u001b[39;00m\n",
      "File \u001b[1;32m~\\AppData\\Local\\Packages\\PythonSoftwareFoundation.Python.3.12_qbz5n2kfra8p0\\LocalCache\\local-packages\\Python312\\site-packages\\torch\\nn\\modules\\linear.py:117\u001b[0m, in \u001b[0;36mLinear.forward\u001b[1;34m(self, input)\u001b[0m\n\u001b[0;32m    116\u001b[0m \u001b[38;5;28;01mdef\u001b[39;00m \u001b[38;5;21mforward\u001b[39m(\u001b[38;5;28mself\u001b[39m, \u001b[38;5;28minput\u001b[39m: Tensor) \u001b[38;5;241m-\u001b[39m\u001b[38;5;241m>\u001b[39m Tensor:\n\u001b[1;32m--> 117\u001b[0m     \u001b[38;5;28;01mreturn\u001b[39;00m \u001b[43mF\u001b[49m\u001b[38;5;241;43m.\u001b[39;49m\u001b[43mlinear\u001b[49m\u001b[43m(\u001b[49m\u001b[38;5;28;43minput\u001b[39;49m\u001b[43m,\u001b[49m\u001b[43m \u001b[49m\u001b[38;5;28;43mself\u001b[39;49m\u001b[38;5;241;43m.\u001b[39;49m\u001b[43mweight\u001b[49m\u001b[43m,\u001b[49m\u001b[43m \u001b[49m\u001b[38;5;28;43mself\u001b[39;49m\u001b[38;5;241;43m.\u001b[39;49m\u001b[43mbias\u001b[49m\u001b[43m)\u001b[49m\n",
      "\u001b[1;31mRuntimeError\u001b[0m: mat1 and mat2 shapes cannot be multiplied (64x1024 and 4096x10)"
     ]
    }
   ],
   "source": [
    "CNN2L = MultiLayeredCNN([3, 16, 32]).to(device)\n",
    "grad = torch.optim.SGD(CNN2L.parameters(), lr=0.01)\n",
    "\n",
    "valAccs_2L = train(CNN2L, train_loader, val_loader, grad, epochs=1, patience=5)\n",
    "\n",
    "CNN3L = MultiLayeredCNN([3, 16, 32, 64]).to(device)\n",
    "grad = torch.optim.SGD(CNN3L.parameters(), lr=0.01)\n",
    "valAccs_3L = train(CNN3L, train_loader, val_loader, grad, epochs=1, patience=5)\n",
    "\n",
    "CNN4L = MultiLayeredCNN([3, 16, 32, 64, 128]).to(device)\n",
    "grad = torch.optim.SGD(CNN4L.parameters(), lr=0.01)\n",
    "valAccs_4L = train(CNN4L, train_loader, val_loader, grad, epochs=1, patience=5)\n",
    "\n",
    "plt.plot(valAccs_2L, label='2 convolutions')\n",
    "# plt.plot(valAccs_3L, label='3 convolutions')\n",
    "# plt.plot(valAccs_4L, label='4 convolutions')\n",
    "plt.xlabel('Epoch')\n",
    "plt.ylabel('Validation Accuracy')\n",
    "plt.legend()\n",
    "plt.show()"
   ]
  },
  {
   "cell_type": "markdown",
   "metadata": {
    "id": "lEelbGLFjtB1"
   },
   "source": [
    "## Q5: Interpretability! Or, activation patching ConvNets with `NNSight` (50 points)\n",
    "\n",
    "We're going to play with **[activation patching](https://nnsight.net/notebooks/tutorials/ioi_patching/)** here. The idea is to **intervene** on model activations during execution to try and tease out how the model performs a given task (here, image classification).\n",
    "\n",
    "What will we be looking at? Well, the ConvNet we trained seems to be able to do a fairly OK job at discriminating between the numbers 1 and 7; but this is kind of tricky! Can we isolate key activations in the model that allow for this?\n",
    "\n",
    "That's the idea behind activation patching. We will run different inputs through the model—an image of a 1, an image of a 7—and then intervene by replacing (or \"patching\") in activations from the former into the latter. Then we measure how much this shifts the prediction towards 1.\n",
    "\n",
    "We'll run two input images through the model—a 1 and a 7—and patch in activations for different **channels** from the former to the latter at the penultimate layer in our `MultiLayeredCNN`. ([Here is a refresher on channels in ConvNets](https://d2l.ai/chapter_convolutional-neural-networks/channels.html).) Sometimes we speculate that different channels serve as distinct feature detectors — we're essentially probing this assumption here with activation patching!"
   ]
  },
  {
   "cell_type": "markdown",
   "metadata": {
    "id": "gA9O8zWfunIt"
   },
   "source": [
    "First, we need a model to intervene on! Let's take the best performing model and optimizer from the above experiments, and re-train it so that we can try and probe how it works."
   ]
  },
  {
   "cell_type": "code",
   "execution_count": 70,
   "metadata": {
    "colab": {
     "base_uri": "https://localhost:8080/"
    },
    "id": "hp3BEF9Moe1Q",
    "outputId": "ab583439-3072-44c3-8e07-f13651f8b53b"
   },
   "outputs": [
    {
     "ename": "TypeError",
     "evalue": "'list' object cannot be interpreted as an integer",
     "output_type": "error",
     "traceback": [
      "\u001b[1;31m---------------------------------------------------------------------------\u001b[0m",
      "\u001b[1;31mTypeError\u001b[0m                                 Traceback (most recent call last)",
      "Cell \u001b[1;32mIn[70], line 3\u001b[0m\n\u001b[0;32m      1\u001b[0m \u001b[38;5;66;03m# Retrain your best model here!\u001b[39;00m\n\u001b[0;32m      2\u001b[0m conv_channels \u001b[38;5;241m=\u001b[39m [\u001b[38;5;241m3\u001b[39m, \u001b[38;5;241m16\u001b[39m, \u001b[38;5;241m32\u001b[39m, \u001b[38;5;241m64\u001b[39m]\n\u001b[1;32m----> 3\u001b[0m model \u001b[38;5;241m=\u001b[39m \u001b[43mMultiLayeredCNN\u001b[49m\u001b[43m(\u001b[49m\u001b[43mconv_channels\u001b[49m\u001b[43m)\u001b[49m\u001b[38;5;241m.\u001b[39mto(device)\n\u001b[0;32m      4\u001b[0m optim \u001b[38;5;241m=\u001b[39m torch\u001b[38;5;241m.\u001b[39moptim\u001b[38;5;241m.\u001b[39mAdam(model\u001b[38;5;241m.\u001b[39mparameters(), lr\u001b[38;5;241m=\u001b[39m\u001b[38;5;241m0.01\u001b[39m)\n\u001b[0;32m      5\u001b[0m scores \u001b[38;5;241m=\u001b[39m train(model, train_loader, val_loader, optim, epochs\u001b[38;5;241m=\u001b[39m\u001b[38;5;241m20\u001b[39m, patience\u001b[38;5;241m=\u001b[39m\u001b[38;5;241m5\u001b[39m)\n",
      "Cell \u001b[1;32mIn[65], line 10\u001b[0m, in \u001b[0;36mMultiLayeredCNN.__init__\u001b[1;34m(self, convolutions, num_classes)\u001b[0m\n\u001b[0;32m      7\u001b[0m layers \u001b[38;5;241m=\u001b[39m []\n\u001b[0;32m      8\u001b[0m in_channels \u001b[38;5;241m=\u001b[39m \u001b[38;5;241m3\u001b[39m\n\u001b[1;32m---> 10\u001b[0m \u001b[38;5;28;01mfor\u001b[39;00m i \u001b[38;5;129;01min\u001b[39;00m \u001b[38;5;28;43mrange\u001b[39;49m\u001b[43m(\u001b[49m\u001b[43mconvolutions\u001b[49m\u001b[43m)\u001b[49m:\n\u001b[0;32m     11\u001b[0m     layers\u001b[38;5;241m.\u001b[39mappend(nn\u001b[38;5;241m.\u001b[39mConv2d(in_channels, \u001b[38;5;241m16\u001b[39m, kernel_size\u001b[38;5;241m=\u001b[39m\u001b[38;5;241m3\u001b[39m, stride\u001b[38;5;241m=\u001b[39m\u001b[38;5;241m1\u001b[39m, padding\u001b[38;5;241m=\u001b[39m\u001b[38;5;241m1\u001b[39m))\n\u001b[0;32m     12\u001b[0m     layers\u001b[38;5;241m.\u001b[39mappend(nn\u001b[38;5;241m.\u001b[39mBatchNorm2d(\u001b[38;5;241m16\u001b[39m))\n",
      "\u001b[1;31mTypeError\u001b[0m: 'list' object cannot be interpreted as an integer"
     ]
    }
   ],
   "source": [
    "# Retrain your best model here!\n",
    "conv_channels = [3, 16, 32, 64]\n",
    "model = MultiLayeredCNN(conv_channels).to(device)\n",
    "optim = torch.optim.Adam(model.parameters(), lr=0.01)\n",
    "scores = train(model, train_loader, val_loader, optim, epochs=20, patience=5)"
   ]
  },
  {
   "cell_type": "markdown",
   "metadata": {
    "id": "r5gLJ7tMuX8A"
   },
   "source": [
    "Your task in this question can be broken down as follows\n",
    "\n",
    "(1) First write code to extract activations when you pass an arbitrary *test* image through your trained model; you should use `NNsight` for this. To keep things relatively simple, take activations over all channels from the last convolutional layer output. **We are interested in whether one of the channels at this layer is especially important for discriminating 7s from 1s**.\n",
    "\n",
    "(2) You will want to record **logits** and differences of **logits** between the two classes of interest, here (at least initially) 1 and 7. You can roughly follow this `NNSight` tutorial on patching here! https://nnsight.net/notebooks/tutorials/activation_patching/. In our case, you can view the 'clean' pass as just passing an image of a 7, and the 'corrupt' pass an image of a 1 (again, at least initially). As in the linked tutorial, we will use differences in logits (between 7 and 1) as our primary measure: Denote this by $\\Delta (7,1)$.\n",
    "\n",
    "(3) Iterate over all channels (32 or 64) in forward passes conditioned on the 7 image input, patch in the corresponding activations (from the 1 pass) and take the (patched) difference in logits. Finally, the measure we care about is:\n",
    "\n",
    "\\begin{align}\n",
    "%\\Delta(7,1) \\text{ for patched}  - \\Delta(7,1) \\text{ for clean 1}\n",
    "\\frac{\\Delta(7,1) \\text{ for patched}  - \\Delta(7,1) \\text{ for 1}}{\\Delta(7,1) \\text{ for 7} - \\Delta(7,1) \\text{ for 1}}\n",
    "  \\end{align}\n",
    "\n",
    "Where again $\\Delta(7,1)$ (differences) are between the scores (logits) given to 7 and 1, respectively, i.e., $\\Delta(7,1) = \\tilde{y}_7 - \\tilde{y}_1$, where $\\tilde{y}_j$ is the *logit* (pre-softmax) score assigned to class $j$.\n",
    "The denominator is just a normalizing term so that the quantity will usually—though not always—be between 0 and 1.\n",
    "\n",
    "If this is small, then the gap between 7 and 1 is closing as we patch, relative to the difference observed in the \"clean run\" of 7s through the model.\n",
    "\n",
    "\n",
    "(4) Once you have calculated the above for each channel, plot these values: Make a bar graph such that the $x$ axis is the channel, and the $y$ value the score.\n",
    "\n",
    "(5) Get this working for a single pair of images (one image of a 1, one of a 7, sampled at random from the test set). Then, get it working for a batch of samples (one batch of 1s, one batch of 7s). You should take means for the $\\Delta(7, 1)$ values. For patching, you can arbitrarily take 1 and 7 images from the respective batches and patch activations from the former into the latter. Remake the plot.\n",
    "\n",
    "(6) Now, repeat the experiment with 7s vs. 3s (instead of 1s). Regenerate the plot.\n",
    "\n",
    "(7) Finally, write up your interpretation of your results.\n"
   ]
  },
  {
   "cell_type": "code",
   "execution_count": 72,
   "metadata": {
    "colab": {
     "base_uri": "https://localhost:8080/"
    },
    "id": "cTdEEb0Dsxn6",
    "outputId": "95dc45a7-3162-45ff-8d8b-4377c828e420"
   },
   "outputs": [
    {
     "name": "stdout",
     "output_type": "stream",
     "text": [
      "Defaulting to user installation because normal site-packages is not writeable\n",
      "Requirement already satisfied: nnsight in c:\\users\\owner\\appdata\\local\\packages\\pythonsoftwarefoundation.python.3.12_qbz5n2kfra8p0\\localcache\\local-packages\\python312\\site-packages (0.3.6)\n",
      "Requirement already satisfied: transformers in c:\\users\\owner\\appdata\\local\\packages\\pythonsoftwarefoundation.python.3.12_qbz5n2kfra8p0\\localcache\\local-packages\\python312\\site-packages (from nnsight) (4.45.2)\n",
      "Requirement already satisfied: protobuf in c:\\users\\owner\\appdata\\local\\packages\\pythonsoftwarefoundation.python.3.12_qbz5n2kfra8p0\\localcache\\local-packages\\python312\\site-packages (from nnsight) (4.25.5)\n",
      "Requirement already satisfied: python-socketio[client] in c:\\users\\owner\\appdata\\local\\packages\\pythonsoftwarefoundation.python.3.12_qbz5n2kfra8p0\\localcache\\local-packages\\python312\\site-packages (from nnsight) (5.11.4)\n",
      "Requirement already satisfied: tokenizers>=0.13.0 in c:\\users\\owner\\appdata\\local\\packages\\pythonsoftwarefoundation.python.3.12_qbz5n2kfra8p0\\localcache\\local-packages\\python312\\site-packages (from nnsight) (0.20.0)\n",
      "Requirement already satisfied: pydantic>=2.4.0 in c:\\users\\owner\\appdata\\local\\packages\\pythonsoftwarefoundation.python.3.12_qbz5n2kfra8p0\\localcache\\local-packages\\python312\\site-packages (from nnsight) (2.9.2)\n",
      "Requirement already satisfied: torch>=2.4.0 in c:\\users\\owner\\appdata\\local\\packages\\pythonsoftwarefoundation.python.3.12_qbz5n2kfra8p0\\localcache\\local-packages\\python312\\site-packages (from nnsight) (2.4.1+cu118)\n",
      "Requirement already satisfied: sentencepiece in c:\\users\\owner\\appdata\\local\\packages\\pythonsoftwarefoundation.python.3.12_qbz5n2kfra8p0\\localcache\\local-packages\\python312\\site-packages (from nnsight) (0.2.0)\n",
      "Requirement already satisfied: torchvision in c:\\users\\owner\\appdata\\local\\packages\\pythonsoftwarefoundation.python.3.12_qbz5n2kfra8p0\\localcache\\local-packages\\python312\\site-packages (from nnsight) (0.19.1)\n",
      "Requirement already satisfied: accelerate in c:\\users\\owner\\appdata\\local\\packages\\pythonsoftwarefoundation.python.3.12_qbz5n2kfra8p0\\localcache\\local-packages\\python312\\site-packages (from nnsight) (1.0.0)\n",
      "Requirement already satisfied: diffusers in c:\\users\\owner\\appdata\\local\\packages\\pythonsoftwarefoundation.python.3.12_qbz5n2kfra8p0\\localcache\\local-packages\\python312\\site-packages (from nnsight) (0.30.3)\n",
      "Requirement already satisfied: einops in c:\\users\\owner\\appdata\\local\\packages\\pythonsoftwarefoundation.python.3.12_qbz5n2kfra8p0\\localcache\\local-packages\\python312\\site-packages (from nnsight) (0.8.0)\n",
      "Requirement already satisfied: annotated-types>=0.6.0 in c:\\users\\owner\\appdata\\local\\packages\\pythonsoftwarefoundation.python.3.12_qbz5n2kfra8p0\\localcache\\local-packages\\python312\\site-packages (from pydantic>=2.4.0->nnsight) (0.7.0)\n",
      "Requirement already satisfied: pydantic-core==2.23.4 in c:\\users\\owner\\appdata\\local\\packages\\pythonsoftwarefoundation.python.3.12_qbz5n2kfra8p0\\localcache\\local-packages\\python312\\site-packages (from pydantic>=2.4.0->nnsight) (2.23.4)\n",
      "Requirement already satisfied: typing-extensions>=4.6.1 in c:\\users\\owner\\appdata\\local\\packages\\pythonsoftwarefoundation.python.3.12_qbz5n2kfra8p0\\localcache\\local-packages\\python312\\site-packages (from pydantic>=2.4.0->nnsight) (4.12.2)\n",
      "Requirement already satisfied: huggingface-hub<1.0,>=0.16.4 in c:\\users\\owner\\appdata\\local\\packages\\pythonsoftwarefoundation.python.3.12_qbz5n2kfra8p0\\localcache\\local-packages\\python312\\site-packages (from tokenizers>=0.13.0->nnsight) (0.25.1)\n",
      "Requirement already satisfied: filelock in c:\\users\\owner\\appdata\\local\\packages\\pythonsoftwarefoundation.python.3.12_qbz5n2kfra8p0\\localcache\\local-packages\\python312\\site-packages (from torch>=2.4.0->nnsight) (3.16.1)\n",
      "Requirement already satisfied: sympy in c:\\users\\owner\\appdata\\local\\packages\\pythonsoftwarefoundation.python.3.12_qbz5n2kfra8p0\\localcache\\local-packages\\python312\\site-packages (from torch>=2.4.0->nnsight) (1.13.3)\n",
      "Requirement already satisfied: networkx in c:\\users\\owner\\appdata\\local\\packages\\pythonsoftwarefoundation.python.3.12_qbz5n2kfra8p0\\localcache\\local-packages\\python312\\site-packages (from torch>=2.4.0->nnsight) (3.3)\n",
      "Requirement already satisfied: jinja2 in c:\\users\\owner\\appdata\\local\\packages\\pythonsoftwarefoundation.python.3.12_qbz5n2kfra8p0\\localcache\\local-packages\\python312\\site-packages (from torch>=2.4.0->nnsight) (3.1.4)\n",
      "Requirement already satisfied: fsspec in c:\\users\\owner\\appdata\\local\\packages\\pythonsoftwarefoundation.python.3.12_qbz5n2kfra8p0\\localcache\\local-packages\\python312\\site-packages (from torch>=2.4.0->nnsight) (2024.9.0)\n",
      "Requirement already satisfied: setuptools in c:\\users\\owner\\appdata\\local\\packages\\pythonsoftwarefoundation.python.3.12_qbz5n2kfra8p0\\localcache\\local-packages\\python312\\site-packages (from torch>=2.4.0->nnsight) (75.1.0)\n",
      "Requirement already satisfied: numpy<3.0.0,>=1.17 in c:\\users\\owner\\appdata\\local\\packages\\pythonsoftwarefoundation.python.3.12_qbz5n2kfra8p0\\localcache\\local-packages\\python312\\site-packages (from accelerate->nnsight) (1.26.4)\n",
      "Requirement already satisfied: packaging>=20.0 in c:\\users\\owner\\appdata\\local\\packages\\pythonsoftwarefoundation.python.3.12_qbz5n2kfra8p0\\localcache\\local-packages\\python312\\site-packages (from accelerate->nnsight) (24.1)\n",
      "Requirement already satisfied: psutil in c:\\users\\owner\\appdata\\local\\packages\\pythonsoftwarefoundation.python.3.12_qbz5n2kfra8p0\\localcache\\local-packages\\python312\\site-packages (from accelerate->nnsight) (6.0.0)\n",
      "Requirement already satisfied: pyyaml in c:\\users\\owner\\appdata\\local\\packages\\pythonsoftwarefoundation.python.3.12_qbz5n2kfra8p0\\localcache\\local-packages\\python312\\site-packages (from accelerate->nnsight) (6.0.2)\n",
      "Requirement already satisfied: safetensors>=0.4.3 in c:\\users\\owner\\appdata\\local\\packages\\pythonsoftwarefoundation.python.3.12_qbz5n2kfra8p0\\localcache\\local-packages\\python312\\site-packages (from accelerate->nnsight) (0.4.5)\n",
      "Requirement already satisfied: importlib-metadata in c:\\users\\owner\\appdata\\local\\packages\\pythonsoftwarefoundation.python.3.12_qbz5n2kfra8p0\\localcache\\local-packages\\python312\\site-packages (from diffusers->nnsight) (8.5.0)\n",
      "Requirement already satisfied: regex!=2019.12.17 in c:\\users\\owner\\appdata\\local\\packages\\pythonsoftwarefoundation.python.3.12_qbz5n2kfra8p0\\localcache\\local-packages\\python312\\site-packages (from diffusers->nnsight) (2024.9.11)\n",
      "Requirement already satisfied: requests in c:\\users\\owner\\appdata\\local\\packages\\pythonsoftwarefoundation.python.3.12_qbz5n2kfra8p0\\localcache\\local-packages\\python312\\site-packages (from diffusers->nnsight) (2.32.3)\n",
      "Requirement already satisfied: Pillow in c:\\users\\owner\\appdata\\local\\packages\\pythonsoftwarefoundation.python.3.12_qbz5n2kfra8p0\\localcache\\local-packages\\python312\\site-packages (from diffusers->nnsight) (10.4.0)\n",
      "Requirement already satisfied: bidict>=0.21.0 in c:\\users\\owner\\appdata\\local\\packages\\pythonsoftwarefoundation.python.3.12_qbz5n2kfra8p0\\localcache\\local-packages\\python312\\site-packages (from python-socketio[client]->nnsight) (0.23.1)\n",
      "Requirement already satisfied: python-engineio>=4.8.0 in c:\\users\\owner\\appdata\\local\\packages\\pythonsoftwarefoundation.python.3.12_qbz5n2kfra8p0\\localcache\\local-packages\\python312\\site-packages (from python-socketio[client]->nnsight) (4.9.1)\n",
      "Requirement already satisfied: websocket-client>=0.54.0 in c:\\users\\owner\\appdata\\local\\packages\\pythonsoftwarefoundation.python.3.12_qbz5n2kfra8p0\\localcache\\local-packages\\python312\\site-packages (from python-socketio[client]->nnsight) (1.8.0)\n",
      "Requirement already satisfied: tqdm>=4.27 in c:\\users\\owner\\appdata\\local\\packages\\pythonsoftwarefoundation.python.3.12_qbz5n2kfra8p0\\localcache\\local-packages\\python312\\site-packages (from transformers->nnsight) (4.66.5)\n",
      "Requirement already satisfied: simple-websocket>=0.10.0 in c:\\users\\owner\\appdata\\local\\packages\\pythonsoftwarefoundation.python.3.12_qbz5n2kfra8p0\\localcache\\local-packages\\python312\\site-packages (from python-engineio>=4.8.0->python-socketio[client]->nnsight) (1.0.0)\n",
      "Requirement already satisfied: charset-normalizer<4,>=2 in c:\\users\\owner\\appdata\\local\\packages\\pythonsoftwarefoundation.python.3.12_qbz5n2kfra8p0\\localcache\\local-packages\\python312\\site-packages (from requests->diffusers->nnsight) (3.3.2)\n",
      "Requirement already satisfied: idna<4,>=2.5 in c:\\users\\owner\\appdata\\local\\packages\\pythonsoftwarefoundation.python.3.12_qbz5n2kfra8p0\\localcache\\local-packages\\python312\\site-packages (from requests->diffusers->nnsight) (3.10)\n",
      "Requirement already satisfied: urllib3<3,>=1.21.1 in c:\\users\\owner\\appdata\\local\\packages\\pythonsoftwarefoundation.python.3.12_qbz5n2kfra8p0\\localcache\\local-packages\\python312\\site-packages (from requests->diffusers->nnsight) (2.2.3)\n",
      "Requirement already satisfied: certifi>=2017.4.17 in c:\\users\\owner\\appdata\\local\\packages\\pythonsoftwarefoundation.python.3.12_qbz5n2kfra8p0\\localcache\\local-packages\\python312\\site-packages (from requests->diffusers->nnsight) (2024.8.30)\n",
      "Requirement already satisfied: colorama in c:\\users\\owner\\appdata\\local\\packages\\pythonsoftwarefoundation.python.3.12_qbz5n2kfra8p0\\localcache\\local-packages\\python312\\site-packages (from tqdm>=4.27->transformers->nnsight) (0.4.6)\n",
      "Requirement already satisfied: zipp>=3.20 in c:\\users\\owner\\appdata\\local\\packages\\pythonsoftwarefoundation.python.3.12_qbz5n2kfra8p0\\localcache\\local-packages\\python312\\site-packages (from importlib-metadata->diffusers->nnsight) (3.20.2)\n",
      "Requirement already satisfied: MarkupSafe>=2.0 in c:\\users\\owner\\appdata\\local\\packages\\pythonsoftwarefoundation.python.3.12_qbz5n2kfra8p0\\localcache\\local-packages\\python312\\site-packages (from jinja2->torch>=2.4.0->nnsight) (3.0.0)\n",
      "Requirement already satisfied: mpmath<1.4,>=1.1.0 in c:\\users\\owner\\appdata\\local\\packages\\pythonsoftwarefoundation.python.3.12_qbz5n2kfra8p0\\localcache\\local-packages\\python312\\site-packages (from sympy->torch>=2.4.0->nnsight) (1.3.0)\n",
      "Requirement already satisfied: wsproto in c:\\users\\owner\\appdata\\local\\packages\\pythonsoftwarefoundation.python.3.12_qbz5n2kfra8p0\\localcache\\local-packages\\python312\\site-packages (from simple-websocket>=0.10.0->python-engineio>=4.8.0->python-socketio[client]->nnsight) (1.2.0)\n",
      "Requirement already satisfied: h11<1,>=0.9.0 in c:\\users\\owner\\appdata\\local\\packages\\pythonsoftwarefoundation.python.3.12_qbz5n2kfra8p0\\localcache\\local-packages\\python312\\site-packages (from wsproto->simple-websocket>=0.10.0->python-engineio>=4.8.0->python-socketio[client]->nnsight) (0.14.0)\n"
     ]
    }
   ],
   "source": [
    "# Install nnsight\n",
    "!pip install nnsight"
   ]
  },
  {
   "cell_type": "code",
   "execution_count": 73,
   "metadata": {
    "id": "Ys77zD5xCKmg"
   },
   "outputs": [],
   "source": [
    "import random\n",
    "\n",
    "def get_sample_of_class(class_idx, batch_size=1):\n",
    "    images = []\n",
    "    for image, label in test_loader:\n",
    "        for i in range(len(label)):\n",
    "            if label[i] == class_idx:\n",
    "                images.append(image[i])\n",
    "            if len(images) >= batch_size:\n",
    "                break\n",
    "        if len(images) >= batch_size:\n",
    "            break\n",
    "    return images"
   ]
  },
  {
   "cell_type": "code",
   "execution_count": 74,
   "metadata": {
    "id": "7nBs4RqLDhAw"
   },
   "outputs": [],
   "source": [
    "batch_of_ones = get_sample_of_class(1, batch_size=8)\n",
    "batch_of_sevens = get_sample_of_class(7, batch_size=8)"
   ]
  },
  {
   "cell_type": "code",
   "execution_count": 75,
   "metadata": {
    "colab": {
     "base_uri": "https://localhost:8080/"
    },
    "id": "CCMR-KqMvY8I",
    "outputId": "9b1fd067-526f-4a4d-d812-52fabaf46df3"
   },
   "outputs": [
    {
     "name": "stderr",
     "output_type": "stream",
     "text": [
      "C:\\Users\\Owner\\AppData\\Local\\Packages\\PythonSoftwareFoundation.Python.3.12_qbz5n2kfra8p0\\LocalCache\\local-packages\\Python312\\site-packages\\tqdm\\auto.py:21: TqdmWarning: IProgress not found. Please update jupyter and ipywidgets. See https://ipywidgets.readthedocs.io/en/stable/user_install.html\n",
      "  from .autonotebook import tqdm as notebook_tqdm\n"
     ]
    },
    {
     "ename": "AttributeError",
     "evalue": "'SimpleCNN' object has no attribute 'cnns'",
     "output_type": "error",
     "traceback": [
      "\u001b[1;31m---------------------------------------------------------------------------\u001b[0m",
      "\u001b[1;31mAttributeError\u001b[0m                            Traceback (most recent call last)",
      "Cell \u001b[1;32mIn[75], line 4\u001b[0m\n\u001b[0;32m      1\u001b[0m \u001b[38;5;28;01mfrom\u001b[39;00m \u001b[38;5;21;01mnnsight\u001b[39;00m \u001b[38;5;28;01mimport\u001b[39;00m NNsight\n\u001b[0;32m      3\u001b[0m model_nn \u001b[38;5;241m=\u001b[39m NNsight(model)\n\u001b[1;32m----> 4\u001b[0m \u001b[38;5;28mprint\u001b[39m(\u001b[43mmodel\u001b[49m\u001b[38;5;241;43m.\u001b[39;49m\u001b[43mcnns\u001b[49m)\n\u001b[0;32m      5\u001b[0m \u001b[38;5;28mprint\u001b[39m(model\u001b[38;5;241m.\u001b[39mfc)\n",
      "File \u001b[1;32m~\\AppData\\Local\\Packages\\PythonSoftwareFoundation.Python.3.12_qbz5n2kfra8p0\\LocalCache\\local-packages\\Python312\\site-packages\\torch\\nn\\modules\\module.py:1729\u001b[0m, in \u001b[0;36mModule.__getattr__\u001b[1;34m(self, name)\u001b[0m\n\u001b[0;32m   1727\u001b[0m     \u001b[38;5;28;01mif\u001b[39;00m name \u001b[38;5;129;01min\u001b[39;00m modules:\n\u001b[0;32m   1728\u001b[0m         \u001b[38;5;28;01mreturn\u001b[39;00m modules[name]\n\u001b[1;32m-> 1729\u001b[0m \u001b[38;5;28;01mraise\u001b[39;00m \u001b[38;5;167;01mAttributeError\u001b[39;00m(\u001b[38;5;124mf\u001b[39m\u001b[38;5;124m\"\u001b[39m\u001b[38;5;124m'\u001b[39m\u001b[38;5;132;01m{\u001b[39;00m\u001b[38;5;28mtype\u001b[39m(\u001b[38;5;28mself\u001b[39m)\u001b[38;5;241m.\u001b[39m\u001b[38;5;18m__name__\u001b[39m\u001b[38;5;132;01m}\u001b[39;00m\u001b[38;5;124m'\u001b[39m\u001b[38;5;124m object has no attribute \u001b[39m\u001b[38;5;124m'\u001b[39m\u001b[38;5;132;01m{\u001b[39;00mname\u001b[38;5;132;01m}\u001b[39;00m\u001b[38;5;124m'\u001b[39m\u001b[38;5;124m\"\u001b[39m)\n",
      "\u001b[1;31mAttributeError\u001b[0m: 'SimpleCNN' object has no attribute 'cnns'"
     ]
    }
   ],
   "source": [
    "from nnsight import NNsight\n",
    "\n",
    "model_nn = NNsight(model)\n",
    "print(model.cnns)\n",
    "print(model.fc)\n",
    "\n",
    "# ModuleList(\n",
    "#   (0): Conv2d(3, 16, kernel_size=(3, 3), stride=(1, 1), padding=(1, 1))\n",
    "#   (1): Conv2d(16, 32, kernel_size=(3, 3), stride=(1, 1), padding=(1, 1))\n",
    "#   (2): Conv2d(32, 64, kernel_size=(3, 3), stride=(1, 1), padding=(1, 1))\n",
    "# )\n",
    "# Linear(in_features=65536, out_features=10, bias=True)"
   ]
  },
  {
   "cell_type": "code",
   "execution_count": null,
   "metadata": {
    "id": "TQI0Myy9IFuz"
   },
   "outputs": [],
   "source": [
    "\n",
    "def run_patching_experiment(model_nn, A_batch, B_batch, A_idx=6, B_idx=0,\n",
    "                            conv_idx=2, num_channels=64):\n",
    "  '''\n",
    "  Run activation patching experiment over instances in the A and B batches;\n",
    "  return scores that indicate the importance of each channel output from the\n",
    "  specificed convolution layer (conv_idx).\n",
    "\n",
    "  model_nn: NNsight-wrapped trained ConvNet for digit classification\n",
    "  A_batch: batch of images of class A (e.g., 7s)\n",
    "  B_batch: batch of images of class B (e.g., 1s)\n",
    "  '''\n",
    "\n",
    "  # Your code here!\n",
    "\n",
    "  return channel_deltas, logit_diffs, logit_diffA, logit_diffB"
   ]
  },
  {
   "cell_type": "code",
   "execution_count": null,
   "metadata": {
    "id": "jaU1fEkzKIMr"
   },
   "outputs": [],
   "source": [
    "channel_deltas, logit_diffs, logit_diffA, logit_diffB = run_patching_experiment(\n",
    "    model_nn, batch_of_sevens, batch_of_ones, A_idx=6, B_idx=0)"
   ]
  },
  {
   "cell_type": "markdown",
   "metadata": {
    "id": "Tij_vv80RvcV"
   },
   "source": [
    "Note: your plot may not look (exactly) like the one below just do to randomness in SGD! That is, you may find different 'important' filters for distinguishing b/w 1 and 7. That's OK."
   ]
  },
  {
   "cell_type": "code",
   "execution_count": null,
   "metadata": {
    "colab": {
     "base_uri": "https://localhost:8080/",
     "height": 430
    },
    "id": "yoWBhp5PKOBR",
    "outputId": "a82ca476-6fce-4e11-f6fd-b7250b01d08f"
   },
   "outputs": [
    {
     "data": {
      "image/png": "[encoded data removed]",
      "text/plain": [
       "<Figure size 640x480 with 1 Axes>"
      ]
     },
     "metadata": {},
     "output_type": "display_data"
    }
   ],
   "source": [
    "plt.bar(range(len(channel_deltas)), channel_deltas)\n",
    "plt.show()"
   ]
  },
  {
   "cell_type": "code",
   "execution_count": null,
   "metadata": {
    "colab": {
     "base_uri": "https://localhost:8080/"
    },
    "id": "NnLMpDOxKSDn",
    "outputId": "684dacf3-3df1-4318-8c67-08619e1b2a78"
   },
   "outputs": [
    {
     "name": "stdout",
     "output_type": "stream",
     "text": [
      "Important channel for 1 and 7 is 49\n",
      "Clean logit difference [y_7 - y_1] (for pass of 7s): -447.472\n",
      "Intervened logit difference (after activation patching): -667.736\n"
     ]
    }
   ],
   "source": [
    "min_score_idx = np.argmin(channel_deltas)\n",
    "print(\"Important channel for 1 and 7 is\", min_score_idx)\n",
    "print(f\"Clean logit difference [y_7 - y_1] (for pass of 7s): {logit_diffA.value:.3f}\")\n",
    "print(f\"Intervened logit difference (after activation patching): {logit_diffs[min_score_idx].item():.3f}\")"
   ]
  },
  {
   "cell_type": "markdown",
   "metadata": {
    "id": "6WoJl_LOLrbY"
   },
   "source": [
    "And now, let's repeat with 7 and 3"
   ]
  },
  {
   "cell_type": "code",
   "execution_count": null,
   "metadata": {
    "id": "9OnmryekLqfQ"
   },
   "outputs": [],
   "source": [
    "batch_of_threes = get_sample_of_class(3, batch_size=8)"
   ]
  },
  {
   "cell_type": "code",
   "execution_count": null,
   "metadata": {
    "id": "wTTbYX8HLqi0"
   },
   "outputs": [],
   "source": [
    "channel_deltas, logit_diffs, logit_diffA, logit_diffB = run_patching_experiment(\n",
    "    model_nn, batch_of_sevens, batch_of_threes, A_idx=6, B_idx=2)"
   ]
  },
  {
   "cell_type": "code",
   "execution_count": null,
   "metadata": {
    "colab": {
     "base_uri": "https://localhost:8080/",
     "height": 430
    },
    "id": "XZQqxLghLqlK",
    "outputId": "81cb343a-615f-4e39-b7b3-d5878db249c1"
   },
   "outputs": [
    {
     "data": {
      "image/png": "[encoded data removed]",
      "text/plain": [
       "<Figure size 640x480 with 1 Axes>"
      ]
     },
     "metadata": {},
     "output_type": "display_data"
    }
   ],
   "source": [
    "plt.bar(range(len(channel_deltas)), channel_deltas)\n",
    "plt.show()"
   ]
  },
  {
   "cell_type": "code",
   "execution_count": null,
   "metadata": {
    "colab": {
     "base_uri": "https://localhost:8080/"
    },
    "id": "Onkzb9kSLqng",
    "outputId": "3bdb58b4-ed48-4c93-cfde-911ff8c8c3b7"
   },
   "outputs": [
    {
     "name": "stdout",
     "output_type": "stream",
     "text": [
      "Important channel for 3 and 7 is 62\n",
      "Clean logit difference: -453.995\n",
      "Intervened logit difference: -339.084\n"
     ]
    }
   ],
   "source": [
    "min_score_idx = np.argmin(channel_deltas)\n",
    "print(\"Important channel for 3 and 7 is\", min_score_idx)\n",
    "print(f\"Clean logit difference: {logit_diffA.value:.3f}\")\n",
    "print(f\"Intervened logit difference: {logit_diffs[min_score_idx].item():.3f}\")"
   ]
  },
  {
   "cell_type": "markdown",
   "metadata": {
    "id": "TxWiT7dHMZSj"
   },
   "source": [
    "## Interpretation\n",
    "\n",
    "*Enter here*"
   ]
  },
  {
   "cell_type": "code",
   "execution_count": null,
   "metadata": {
    "id": "rb6FVZR7SD97"
   },
   "outputs": [],
   "source": []
  }
 ],
 "metadata": {
  "accelerator": "GPU",
  "colab": {
   "provenance": []
  },
  "kernelspec": {
   "display_name": "Python 3",
   "name": "python3"
  },
  "language_info": {
   "codemirror_mode": {
    "name": "ipython",
    "version": 3
   },
   "file_extension": ".py",
   "mimetype": "text/x-python",
   "name": "python",
   "nbconvert_exporter": "python",
   "pygments_lexer": "ipython3",
   "version": "3.12.7"
  }
 },
 "nbformat": 4,
 "nbformat_minor": 0
}
