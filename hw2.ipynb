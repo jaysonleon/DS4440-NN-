{
 "cells": [
  {
   "cell_type": "markdown",
   "metadata": {
    "id": "gJ8bnBQfHFhX"
   },
   "source": [
    "# DS 4440: HW2\n",
    "\n",
    "In this homework we implement backprop the ''hard way'', but only for a simple MLP network, so it's not too painful. We'll play around looking at the gradients for hidden states with and without ``NNSight``."
   ]
  },
  {
   "cell_type": "code",
   "execution_count": 1,
   "metadata": {
    "id": "KvODLT9fHDGY"
   },
   "outputs": [],
   "source": [
    "import numpy as np # NumPy only!\n",
    "import random"
   ]
  },
  {
   "cell_type": "markdown",
   "metadata": {
    "id": "aQop755dHDbD"
   },
   "source": [
    "## Q1. Implement the MLP class (*40 points*)\n",
    "\n",
    "Design a Multi-Layer Perceptron (MLP) with two layers: one hidden layer and one output layer. Use the sigmoid activation function for the hidden and output layers, and apply Mean Squared Error (MSE) as the loss function"
   ]
  },
  {
   "cell_type": "code",
   "execution_count": 2,
   "metadata": {
    "id": "UOM0viBaHLse"
   },
   "outputs": [],
   "source": [
    "def sigmoid(x):\n",
    "    # Your code here\n",
    "    z = np.clip(x, -500, 500)\n",
    "    return 1 / (1 + np.exp(-z))\n",
    "\n",
    "def BCE(y_hat, y):\n",
    "    return -np.mean(y * np.log(y_hat) + (1 - y) * np.log(1 - y_hat))\n",
    "\n",
    "class MLP:\n",
    "    def __init__(self, input_size, hidden_dims=32, alpha=0.2):\n",
    "        '''\n",
    "        Instantiate a single-layer feedforward MLP with the given parameters.\n",
    "\n",
    "        \\alpha is the learning rate.\n",
    "        '''\n",
    "        self.input_size = input_size\n",
    "        self.hidden_dims = hidden_dims\n",
    "        self.initialize_weights()\n",
    "        self.activation = sigmoid\n",
    "        self.alpha = alpha # learning rates\n",
    "\n",
    "    def initialize_weights(self):\n",
    "        '''\n",
    "        Instantiate all model parameters (weights). Specifically, set these to\n",
    "        (uniformly) randomly sampled values from range (-1, 1).\n",
    "        '''\n",
    "        # Your code here\n",
    "        self.W1 = np.random.uniform(-1, 1, (self.input_size, self.hidden_dims))\n",
    "        self.W2 = np.random.uniform(-1, 1, (self.hidden_dims, 1))\n",
    "        self.b1 = np.random.uniform(-1, 1, (1, self.hidden_dims))\n",
    "        self.b2 = np.random.uniform(-1, 1, (1, 1))\n",
    "\n",
    "    def forward(self, X):\n",
    "        '''\n",
    "        Make a forward pass through the network.\n",
    "        '''\n",
    "        if X.ndim == 1:\n",
    "          X = X.reshape(1, -1)\n",
    "        assert (X.shape[1] == self.input_size)\n",
    "        # Your code here\n",
    "        h = np.dot(X, self.W1) + self.b1\n",
    "        h = self.activation(h)\n",
    "        y_hat = sigmoid(np.dot(h, self.W2) + self.b2)\n",
    "        return h, y_hat\n",
    "\n",
    "\n",
    "    def predict(self, X):\n",
    "        '''\n",
    "        Convienence function to yield a prediction for a given input.\n",
    "        Assumes X has shape (num instances x input size); outputs a\n",
    "        vector of *binary* predictions for each instance.\n",
    "        '''\n",
    "        # Your code here\n",
    "        _, y_hat = self.forward(X)\n",
    "        return (y_hat >= 0.5).astype(int)\n",
    "\n",
    "\n",
    "    def backprop(self, X, y, verbose=False):\n",
    "        '''\n",
    "        Given input X and (true) label y, take forward pass with current\n",
    "        model parameters, backprop this, and adjust model parameters\n",
    "        accordingly.\n",
    "        '''\n",
    "        # Your code here\n",
    "        # Forward pass\n",
    "        h, y_hat = self.forward(X)\n",
    "        # Compute gradients\n",
    "        local_error = (y_hat - y)\n",
    "        layer2_output_grad = local_error * y_hat * (1 - y_hat)\n",
    "        grad_h = np.dot(layer2_output_grad, self.W2.T)\n",
    "        layer1_output_grad = grad_h * h * (1 - h)\n",
    "        # Reshape X to 2D if it's a single instance\n",
    "        if X.ndim == 1:\n",
    "            X = X.reshape(1, -1)\n",
    "\n",
    "        # Update parameters\n",
    "        self.W2 -= self.alpha * np.dot(h.T, layer2_output_grad)\n",
    "        self.b2 -= self.alpha * np.sum(layer2_output_grad, axis=0)\n",
    "        self.W1 -= self.alpha * np.dot(X.T, layer1_output_grad)\n",
    "        self.b1 -= self.alpha * np.sum(layer1_output_grad, axis=0)\n",
    "\n",
    "    def fit(self, X, y, epochs, verbose=True):\n",
    "        '''\n",
    "        Train the model for the specified number of epochs.\n",
    "        '''\n",
    "        accs, losses = [], []\n",
    "        for e in range(epochs):\n",
    "            if verbose:\n",
    "              print (\"on epoch {}\".format(e))\n",
    "\n",
    "            correct = 0\n",
    "            loss = 0\n",
    "            for i in range(X.shape[0]):\n",
    "                h, y_hat = self.forward(X[i])\n",
    "                y_hat = y_hat.squeeze()\n",
    "                y_hat_bin = int(y_hat >= .5)\n",
    "                if y_hat_bin == y[i]:\n",
    "                    correct += 1\n",
    "                loss += BCE(y_hat, y[i])\n",
    "            acc = correct / X.shape[0]\n",
    "            accs.append(acc)\n",
    "            losses.append(loss)\n",
    "            if verbose:\n",
    "              print(\"accuracy: {:.2f}; loss: {:.2f}\".format(acc, loss))\n",
    "\n",
    "            for i in range(X.shape[0]):\n",
    "                self.backprop(X[i], y[i])\n",
    "\n",
    "        return accs, losses"
   ]
  },
  {
   "cell_type": "markdown",
   "metadata": {
    "id": "XI0EK7w6UDIU"
   },
   "source": [
    "## Q2 Exploring the bias-variance trade-off (*20 points*)\n",
    "\n",
    "You should:\n",
    "\n",
    "*  Use sklearn `make_classification` to create a simple dataset comprising 1000 samples\n",
    "* Split this into equal sized disjoint train and test sets.\n",
    "* Instantiate your MLP\n",
    "\n",
    "#### A) Plot train and test performance as a function of epochs\n",
    "#### B) See how additional dimensions affect train and test performance"
   ]
  },
  {
   "cell_type": "markdown",
   "metadata": {
    "id": "JS0n7rWn4PLw"
   },
   "source": [
    "#### A.\n",
    "Using `matplotlib` (see [here](https://https://colab.research.google.com/notebooks/charts.ipynb#scrollTo=08RTGn_xE3MP)), plot train and test performances as a function of epochs"
   ]
  },
  {
   "cell_type": "code",
   "execution_count": 3,
   "metadata": {
    "collapsed": true,
    "id": "GuYnfWgNUEdk"
   },
   "outputs": [],
   "source": [
    "# your code\n",
    "import numpy as np\n",
    "import sklearn.datasets as skd\n",
    "from sklearn.model_selection import train_test_split\n",
    "import matplotlib.pyplot as plt\n",
    "from sklearn.metrics import accuracy_score\n",
    "\n",
    "data, label = skd.make_classification(n_samples=1000, n_features=20, n_classes=2, random_state=42)\n",
    "X, y = data, label\n",
    "\n",
    "X_train, X_test, y_train, y_test = train_test_split(X, y, test_size=0.2, random_state=42)\n",
    "\n",
    "n_epochs_max = 100\n",
    "\n",
    "model = MLP(X_train.shape[1])\n",
    "train_accs, train_loss = model.fit(X_train, y_train, epochs=n_epochs_max, verbose=False)\n",
    "\n",
    "train_predictions = model.predict(X_train)\n",
    "train_accuracy = accuracy_score(y_train, train_predictions)\n",
    "\n",
    "test_accs, test_loss = model.fit(X_test, y_test, epochs=n_epochs_max, verbose=False)\n",
    "test_predictions = model.predict(X_test)\n",
    "test_accuracy = accuracy_score(y_test, test_predictions)"
   ]
  },
  {
   "cell_type": "code",
   "execution_count": 4,
   "metadata": {
    "colab": {
     "base_uri": "https://localhost:8080/",
     "height": 449
    },
    "id": "8C9ZXVdGV6Qr",
    "outputId": "07c04728-14fc-40a2-92d4-ed066698c520"
   },
   "outputs": [
    {
     "data": {
      "image/png": "[encoded data removed]",
      "text/plain": [
       "<Figure size 640x480 with 1 Axes>"
      ]
     },
     "metadata": {},
     "output_type": "display_data"
    }
   ],
   "source": [
    "# Example plot result; obviously you don't need to use these var\n",
    "# names, etc. Just meant to be illustrative.\n",
    "plt.plot(range(n_epochs_max), train_accs, label=\"Train Accuracy\")\n",
    "plt.plot(range(n_epochs_max), test_accs, label=\"Test Accuracy\")\n",
    "plt.xlabel(\"Epochs\")\n",
    "plt.ylabel(\"Accuracy\")\n",
    "plt.legend()\n",
    "plt.show()"
   ]
  },
  {
   "cell_type": "markdown",
   "metadata": {
    "id": "7PpYkaSgvRQw"
   },
   "source": [
    "#### B.\n",
    "Let's see how additional hidden dims affect this (if at all). Define two MLPs (using your implementation!), one with hidden dimension size 16, one with hidden dimension size 128. Use the same learning rate for both. Train both for up to 200 epochs, recording the resultant accuracy on both the train and test sets."
   ]
  },
  {
   "cell_type": "code",
   "execution_count": 5,
   "metadata": {
    "collapsed": true,
    "id": "wN1xf-TttfT8"
   },
   "outputs": [],
   "source": [
    "n_epochs_max = 200\n",
    "\n",
    "# Your code here\n",
    "m16 = MLP(X_train.shape[1], hidden_dims=16)\n",
    "m128 = MLP(X_train.shape[1], hidden_dims=128)\n",
    "\n",
    "train_accs16, train_loss16 = m16.fit(X_train, y_train, epochs=n_epochs_max, verbose=False)\n",
    "train_predictions16 = m16.predict(X_train)\n",
    "test_accs16, test_loss16 = m16.fit(X_test, y_test, epochs=n_epochs_max, verbose=False)\n",
    "test_predictions16 = m16.predict(X_test)\n",
    "\n",
    "train_accs128, train_loss128 = m128.fit(X_train, y_train, epochs=n_epochs_max, verbose=False)\n",
    "train_predictions128 = m128.predict(X_train)\n",
    "test_accs128, test_loss128 = m128.fit(X_test, y_test, epochs=n_epochs_max, verbose=False)\n",
    "test_predictions128 = m128.predict(X_test)"
   ]
  },
  {
   "cell_type": "code",
   "execution_count": 6,
   "metadata": {
    "colab": {
     "base_uri": "https://localhost:8080/",
     "height": 473
    },
    "id": "EYccLK6_wA6f",
    "outputId": "7d5bcbaa-d5da-4863-96a6-efe7640f70bb"
   },
   "outputs": [
    {
     "data": {
      "text/plain": [
       "<matplotlib.legend.Legend at 0x2b215671400>"
      ]
     },
     "execution_count": 6,
     "metadata": {},
     "output_type": "execute_result"
    },
    {
     "data": {
      "image/png": "[encoded data removed]",
      "text/plain": [
       "<Figure size 640x480 with 1 Axes>"
      ]
     },
     "metadata": {},
     "output_type": "display_data"
    }
   ],
   "source": [
    "plt.plot(range(n_epochs_max), train_accs16, color=\"blue\", ls=\"--\", label=\"train accuracy (16)\")\n",
    "plt.plot(range(n_epochs_max), test_accs16, color=\"blue\", ls=\"-\", label=\"test accuracy (16)\")\n",
    "plt.plot(range(n_epochs_max), train_accs128, color=\"green\", ls=\"--\", label=\"train accuracy (128)\")\n",
    "plt.plot(range(n_epochs_max), test_accs128, color=\"green\", ls=\"-\", label=\"test accuracy (128)\")\n",
    "plt.xlabel(\"Epoch\")\n",
    "plt.ylim((0.8, 1))\n",
    "plt.legend()"
   ]
  },
  {
   "cell_type": "markdown",
   "metadata": {
    "id": "k4sXuaM-wln3"
   },
   "source": [
    "So we can see the overfitting is more pronounced when we have more dimensions (free parameters).\n",
    "\n",
    "Your plot won't *necessarily* show this, though it probably should."
   ]
  },
  {
   "cell_type": "markdown",
   "metadata": {
    "id": "gOXTpMLXIAYC"
   },
   "source": [
    "## Q3. Test the Implementation (*10 points*)\n",
    "\n",
    "You should:\n",
    "\n",
    "* Instantiate your MLP and fit to the train data\n",
    "* Instantiate the MLP defined in `sklearn.neural_network.MLP` (using same hyperparameters!) and fit to the train data.\n",
    "* Make predictions for the test dataset using both models, generate metrics using `classification_report` from `sklearn`.\n",
    "* Assert that these models achieve comparable results (**Hint** the MLP may be sensitive to the number of epochs -- as per the following question.)\n",
    "\n"
   ]
  },
  {
   "cell_type": "code",
   "execution_count": 7,
   "metadata": {
    "colab": {
     "background_save": true
    },
    "id": "1ed2b9xdHiBj",
    "outputId": "035ed02a-bc18-4878-8a3d-f1024f28d45f"
   },
   "outputs": [
    {
     "name": "stdout",
     "output_type": "stream",
     "text": [
      "My MLP\n",
      "               precision    recall  f1-score   support\n",
      "\n",
      "           0       0.79      0.85      0.82        93\n",
      "           1       0.86      0.80      0.83       107\n",
      "\n",
      "    accuracy                           0.82       200\n",
      "   macro avg       0.82      0.83      0.82       200\n",
      "weighted avg       0.83      0.82      0.83       200\n",
      "\n",
      "SKLearn MLP\n",
      "               precision    recall  f1-score   support\n",
      "\n",
      "           0       0.82      0.86      0.84        93\n",
      "           1       0.87      0.83      0.85       107\n",
      "\n",
      "    accuracy                           0.84       200\n",
      "   macro avg       0.84      0.85      0.84       200\n",
      "weighted avg       0.85      0.84      0.85       200\n",
      "\n"
     ]
    }
   ],
   "source": [
    "# Your code here\n",
    "from sklearn.neural_network import MLPClassifier\n",
    "from sklearn.metrics import classification_report\n",
    "\n",
    "model = MLP(X_train.shape[1])\n",
    "model.fit(X_train, y_train, epochs=1000, verbose=False)\n",
    "y_pred = model.predict(X_test)\n",
    "print(\"My MLP\\n\", classification_report(y_test, y_pred))\n",
    "\n",
    "sklearn = MLPClassifier(hidden_layer_sizes=(32,), max_iter=1000, alpha=0.2, random_state=42)\n",
    "sklearn.fit(X_train, y_train)\n",
    "y_pred = sklearn.predict(X_test)\n",
    "print(\"SKLearn MLP\\n\", classification_report(y_test, y_pred))"
   ]
  },
  {
   "cell_type": "markdown",
   "metadata": {
    "id": "ODGLJ-xgHvPw"
   },
   "source": [
    "# Q4. Activation gradients with (and without) ``NNSight`` (*30 points*)"
   ]
  },
  {
   "cell_type": "markdown",
   "metadata": {
    "id": "5NVz_wXWIiMZ"
   },
   "source": [
    "Now, let's say we wanted to take a deeper look at the gradients of the hidden layer, to try to understand what the network was doing internally and what it was \"learning\". In particular, for a given $(X, y)$ you would like to be able to extract the gradient for the hidden layer and store this.\n",
    "\n",
    "How would you modify your `MLP` class above to facilitate this? Provide a one sentence description of how you'd do this."
   ]
  },
  {
   "cell_type": "markdown",
   "metadata": {
    "id": "bKEjIoQCXmec"
   },
   "source": [
    "I would make my MLP class iterate over each epoch in the learning/training process so that values from each step can be taken/used."
   ]
  },
  {
   "cell_type": "markdown",
   "metadata": {
    "id": "A2nybK6oXnq9"
   },
   "source": [
    "Fortunately, you don't have to! We can use ``NNSight`` to easily access this, so long as we write our model in `torch`. Let's do this."
   ]
  },
  {
   "cell_type": "code",
   "execution_count": 8,
   "metadata": {
    "colab": {
     "base_uri": "https://localhost:8080/"
    },
    "collapsed": true,
    "id": "IR4jj42jJ0yZ",
    "outputId": "aaf5bb3c-ac85-4b7e-fc95-075c584ef252"
   },
   "outputs": [
    {
     "name": "stdout",
     "output_type": "stream",
     "text": [
      "Defaulting to user installation because normal site-packages is not writeable\n",
      "Requirement already satisfied: nnsight in c:\\users\\owner\\appdata\\local\\packages\\pythonsoftwarefoundation.python.3.12_qbz5n2kfra8p0\\localcache\\local-packages\\python312\\site-packages (0.3.6)\n",
      "Requirement already satisfied: transformers in c:\\users\\owner\\appdata\\local\\packages\\pythonsoftwarefoundation.python.3.12_qbz5n2kfra8p0\\localcache\\local-packages\\python312\\site-packages (from nnsight) (4.46.1)\n",
      "Requirement already satisfied: protobuf in c:\\users\\owner\\appdata\\local\\packages\\pythonsoftwarefoundation.python.3.12_qbz5n2kfra8p0\\localcache\\local-packages\\python312\\site-packages (from nnsight) (4.25.5)\n",
      "Requirement already satisfied: python-socketio[client] in c:\\users\\owner\\appdata\\local\\packages\\pythonsoftwarefoundation.python.3.12_qbz5n2kfra8p0\\localcache\\local-packages\\python312\\site-packages (from nnsight) (5.11.4)\n",
      "Requirement already satisfied: tokenizers>=0.13.0 in c:\\users\\owner\\appdata\\local\\packages\\pythonsoftwarefoundation.python.3.12_qbz5n2kfra8p0\\localcache\\local-packages\\python312\\site-packages (from nnsight) (0.20.0)\n",
      "Requirement already satisfied: pydantic>=2.4.0 in c:\\users\\owner\\appdata\\local\\packages\\pythonsoftwarefoundation.python.3.12_qbz5n2kfra8p0\\localcache\\local-packages\\python312\\site-packages (from nnsight) (2.9.2)\n",
      "Requirement already satisfied: torch>=2.4.0 in c:\\users\\owner\\appdata\\local\\packages\\pythonsoftwarefoundation.python.3.12_qbz5n2kfra8p0\\localcache\\local-packages\\python312\\site-packages (from nnsight) (2.5.1)\n",
      "Requirement already satisfied: sentencepiece in c:\\users\\owner\\appdata\\local\\packages\\pythonsoftwarefoundation.python.3.12_qbz5n2kfra8p0\\localcache\\local-packages\\python312\\site-packages (from nnsight) (0.2.0)\n",
      "Requirement already satisfied: torchvision in c:\\users\\owner\\appdata\\local\\packages\\pythonsoftwarefoundation.python.3.12_qbz5n2kfra8p0\\localcache\\local-packages\\python312\\site-packages (from nnsight) (0.20.1)\n",
      "Requirement already satisfied: accelerate in c:\\users\\owner\\appdata\\local\\packages\\pythonsoftwarefoundation.python.3.12_qbz5n2kfra8p0\\localcache\\local-packages\\python312\\site-packages (from nnsight) (1.1.0)\n",
      "Requirement already satisfied: diffusers in c:\\users\\owner\\appdata\\local\\packages\\pythonsoftwarefoundation.python.3.12_qbz5n2kfra8p0\\localcache\\local-packages\\python312\\site-packages (from nnsight) (0.30.3)\n",
      "Requirement already satisfied: einops in c:\\users\\owner\\appdata\\local\\packages\\pythonsoftwarefoundation.python.3.12_qbz5n2kfra8p0\\localcache\\local-packages\\python312\\site-packages (from nnsight) (0.8.0)\n",
      "Requirement already satisfied: annotated-types>=0.6.0 in c:\\users\\owner\\appdata\\local\\packages\\pythonsoftwarefoundation.python.3.12_qbz5n2kfra8p0\\localcache\\local-packages\\python312\\site-packages (from pydantic>=2.4.0->nnsight) (0.7.0)\n",
      "Requirement already satisfied: pydantic-core==2.23.4 in c:\\users\\owner\\appdata\\local\\packages\\pythonsoftwarefoundation.python.3.12_qbz5n2kfra8p0\\localcache\\local-packages\\python312\\site-packages (from pydantic>=2.4.0->nnsight) (2.23.4)\n",
      "Requirement already satisfied: typing-extensions>=4.6.1 in c:\\users\\owner\\appdata\\local\\packages\\pythonsoftwarefoundation.python.3.12_qbz5n2kfra8p0\\localcache\\local-packages\\python312\\site-packages (from pydantic>=2.4.0->nnsight) (4.12.2)\n",
      "Requirement already satisfied: huggingface-hub<1.0,>=0.16.4 in c:\\users\\owner\\appdata\\local\\packages\\pythonsoftwarefoundation.python.3.12_qbz5n2kfra8p0\\localcache\\local-packages\\python312\\site-packages (from tokenizers>=0.13.0->nnsight) (0.25.1)\n",
      "Requirement already satisfied: filelock in c:\\users\\owner\\appdata\\local\\packages\\pythonsoftwarefoundation.python.3.12_qbz5n2kfra8p0\\localcache\\local-packages\\python312\\site-packages (from torch>=2.4.0->nnsight) (3.16.1)\n",
      "Requirement already satisfied: networkx in c:\\users\\owner\\appdata\\local\\packages\\pythonsoftwarefoundation.python.3.12_qbz5n2kfra8p0\\localcache\\local-packages\\python312\\site-packages (from torch>=2.4.0->nnsight) (3.3)\n",
      "Requirement already satisfied: jinja2 in c:\\users\\owner\\appdata\\local\\packages\\pythonsoftwarefoundation.python.3.12_qbz5n2kfra8p0\\localcache\\local-packages\\python312\\site-packages (from torch>=2.4.0->nnsight) (3.1.4)\n",
      "Requirement already satisfied: fsspec in c:\\users\\owner\\appdata\\local\\packages\\pythonsoftwarefoundation.python.3.12_qbz5n2kfra8p0\\localcache\\local-packages\\python312\\site-packages (from torch>=2.4.0->nnsight) (2024.9.0)\n",
      "Requirement already satisfied: setuptools in c:\\users\\owner\\appdata\\local\\packages\\pythonsoftwarefoundation.python.3.12_qbz5n2kfra8p0\\localcache\\local-packages\\python312\\site-packages (from torch>=2.4.0->nnsight) (75.1.0)\n",
      "Requirement already satisfied: sympy==1.13.1 in c:\\users\\owner\\appdata\\local\\packages\\pythonsoftwarefoundation.python.3.12_qbz5n2kfra8p0\\localcache\\local-packages\\python312\\site-packages (from torch>=2.4.0->nnsight) (1.13.1)\n",
      "Requirement already satisfied: mpmath<1.4,>=1.1.0 in c:\\users\\owner\\appdata\\local\\packages\\pythonsoftwarefoundation.python.3.12_qbz5n2kfra8p0\\localcache\\local-packages\\python312\\site-packages (from sympy==1.13.1->torch>=2.4.0->nnsight) (1.3.0)\n",
      "Requirement already satisfied: numpy<3.0.0,>=1.17 in c:\\users\\owner\\appdata\\local\\packages\\pythonsoftwarefoundation.python.3.12_qbz5n2kfra8p0\\localcache\\local-packages\\python312\\site-packages (from accelerate->nnsight) (1.26.4)\n",
      "Requirement already satisfied: packaging>=20.0 in c:\\users\\owner\\appdata\\local\\packages\\pythonsoftwarefoundation.python.3.12_qbz5n2kfra8p0\\localcache\\local-packages\\python312\\site-packages (from accelerate->nnsight) (24.1)\n",
      "Requirement already satisfied: psutil in c:\\users\\owner\\appdata\\local\\packages\\pythonsoftwarefoundation.python.3.12_qbz5n2kfra8p0\\localcache\\local-packages\\python312\\site-packages (from accelerate->nnsight) (6.0.0)\n",
      "Requirement already satisfied: pyyaml in c:\\users\\owner\\appdata\\local\\packages\\pythonsoftwarefoundation.python.3.12_qbz5n2kfra8p0\\localcache\\local-packages\\python312\\site-packages (from accelerate->nnsight) (6.0.2)\n",
      "Requirement already satisfied: safetensors>=0.4.3 in c:\\users\\owner\\appdata\\local\\packages\\pythonsoftwarefoundation.python.3.12_qbz5n2kfra8p0\\localcache\\local-packages\\python312\\site-packages (from accelerate->nnsight) (0.4.5)\n",
      "Requirement already satisfied: importlib-metadata in c:\\users\\owner\\appdata\\local\\packages\\pythonsoftwarefoundation.python.3.12_qbz5n2kfra8p0\\localcache\\local-packages\\python312\\site-packages (from diffusers->nnsight) (8.5.0)\n",
      "Requirement already satisfied: regex!=2019.12.17 in c:\\users\\owner\\appdata\\local\\packages\\pythonsoftwarefoundation.python.3.12_qbz5n2kfra8p0\\localcache\\local-packages\\python312\\site-packages (from diffusers->nnsight) (2024.9.11)\n",
      "Requirement already satisfied: requests in c:\\users\\owner\\appdata\\local\\packages\\pythonsoftwarefoundation.python.3.12_qbz5n2kfra8p0\\localcache\\local-packages\\python312\\site-packages (from diffusers->nnsight) (2.32.3)\n",
      "Requirement already satisfied: Pillow in c:\\users\\owner\\appdata\\local\\packages\\pythonsoftwarefoundation.python.3.12_qbz5n2kfra8p0\\localcache\\local-packages\\python312\\site-packages (from diffusers->nnsight) (10.4.0)\n",
      "Requirement already satisfied: bidict>=0.21.0 in c:\\users\\owner\\appdata\\local\\packages\\pythonsoftwarefoundation.python.3.12_qbz5n2kfra8p0\\localcache\\local-packages\\python312\\site-packages (from python-socketio[client]->nnsight) (0.23.1)\n",
      "Requirement already satisfied: python-engineio>=4.8.0 in c:\\users\\owner\\appdata\\local\\packages\\pythonsoftwarefoundation.python.3.12_qbz5n2kfra8p0\\localcache\\local-packages\\python312\\site-packages (from python-socketio[client]->nnsight) (4.9.1)\n",
      "Requirement already satisfied: websocket-client>=0.54.0 in c:\\users\\owner\\appdata\\local\\packages\\pythonsoftwarefoundation.python.3.12_qbz5n2kfra8p0\\localcache\\local-packages\\python312\\site-packages (from python-socketio[client]->nnsight) (1.8.0)\n",
      "Requirement already satisfied: tqdm>=4.27 in c:\\users\\owner\\appdata\\local\\packages\\pythonsoftwarefoundation.python.3.12_qbz5n2kfra8p0\\localcache\\local-packages\\python312\\site-packages (from transformers->nnsight) (4.66.5)\n",
      "Requirement already satisfied: simple-websocket>=0.10.0 in c:\\users\\owner\\appdata\\local\\packages\\pythonsoftwarefoundation.python.3.12_qbz5n2kfra8p0\\localcache\\local-packages\\python312\\site-packages (from python-engineio>=4.8.0->python-socketio[client]->nnsight) (1.0.0)\n",
      "Requirement already satisfied: charset-normalizer<4,>=2 in c:\\users\\owner\\appdata\\local\\packages\\pythonsoftwarefoundation.python.3.12_qbz5n2kfra8p0\\localcache\\local-packages\\python312\\site-packages (from requests->diffusers->nnsight) (3.3.2)\n",
      "Requirement already satisfied: idna<4,>=2.5 in c:\\users\\owner\\appdata\\local\\packages\\pythonsoftwarefoundation.python.3.12_qbz5n2kfra8p0\\localcache\\local-packages\\python312\\site-packages (from requests->diffusers->nnsight) (3.10)\n",
      "Requirement already satisfied: urllib3<3,>=1.21.1 in c:\\users\\owner\\appdata\\local\\packages\\pythonsoftwarefoundation.python.3.12_qbz5n2kfra8p0\\localcache\\local-packages\\python312\\site-packages (from requests->diffusers->nnsight) (2.2.3)\n",
      "Requirement already satisfied: certifi>=2017.4.17 in c:\\users\\owner\\appdata\\local\\packages\\pythonsoftwarefoundation.python.3.12_qbz5n2kfra8p0\\localcache\\local-packages\\python312\\site-packages (from requests->diffusers->nnsight) (2024.8.30)\n",
      "Requirement already satisfied: colorama in c:\\users\\owner\\appdata\\local\\packages\\pythonsoftwarefoundation.python.3.12_qbz5n2kfra8p0\\localcache\\local-packages\\python312\\site-packages (from tqdm>=4.27->transformers->nnsight) (0.4.6)\n",
      "Requirement already satisfied: zipp>=3.20 in c:\\users\\owner\\appdata\\local\\packages\\pythonsoftwarefoundation.python.3.12_qbz5n2kfra8p0\\localcache\\local-packages\\python312\\site-packages (from importlib-metadata->diffusers->nnsight) (3.20.2)\n",
      "Requirement already satisfied: MarkupSafe>=2.0 in c:\\users\\owner\\appdata\\local\\packages\\pythonsoftwarefoundation.python.3.12_qbz5n2kfra8p0\\localcache\\local-packages\\python312\\site-packages (from jinja2->torch>=2.4.0->nnsight) (3.0.0)\n",
      "Requirement already satisfied: wsproto in c:\\users\\owner\\appdata\\local\\packages\\pythonsoftwarefoundation.python.3.12_qbz5n2kfra8p0\\localcache\\local-packages\\python312\\site-packages (from simple-websocket>=0.10.0->python-engineio>=4.8.0->python-socketio[client]->nnsight) (1.2.0)\n",
      "Requirement already satisfied: h11<1,>=0.9.0 in c:\\users\\owner\\appdata\\local\\packages\\pythonsoftwarefoundation.python.3.12_qbz5n2kfra8p0\\localcache\\local-packages\\python312\\site-packages (from wsproto->simple-websocket>=0.10.0->python-engineio>=4.8.0->python-socketio[client]->nnsight) (0.14.0)\n"
     ]
    },
    {
     "name": "stderr",
     "output_type": "stream",
     "text": [
      "\n",
      "[notice] A new release of pip is available: 24.2 -> 24.3.1\n",
      "[notice] To update, run: C:\\Users\\Owner\\AppData\\Local\\Microsoft\\WindowsApps\\PythonSoftwareFoundation.Python.3.12_qbz5n2kfra8p0\\python.exe -m pip install --upgrade pip\n"
     ]
    }
   ],
   "source": [
    "!pip install nnsight"
   ]
  },
  {
   "cell_type": "markdown",
   "metadata": {
    "id": "xWvM_-SgLy37"
   },
   "source": [
    "First build the same model in `torch`, wrap it in `NNsight`."
   ]
  },
  {
   "cell_type": "code",
   "execution_count": 9,
   "metadata": {
    "collapsed": true,
    "id": "0vYPkP5eHt8C"
   },
   "outputs": [],
   "source": [
    "from collections import OrderedDict\n",
    "import torch\n",
    "from nnsight import NNsight\n",
    "import torch.optim as optim\n",
    "from torch.utils.data import TensorDataset, DataLoader\n",
    "\n",
    "X_train = torch.tensor(X_train, dtype=torch.float32)\n",
    "y_train = torch.tensor(y_train, dtype=torch.float32)\n",
    "X_test = torch.tensor(X_test, dtype=torch.float32)\n",
    "y_test = torch.tensor(y_test, dtype=torch.float32)\n",
    "\n",
    "hidden_dims = 16\n",
    "\n",
    "class MLP(torch.nn.Module):\n",
    "    def __init__(self):\n",
    "        super().__init__()\n",
    "        self.i = torch.nn.Linear(X_train.shape[1], hidden_dims)\n",
    "        self.a = torch.nn.Sigmoid()\n",
    "        self.o = torch.nn.Linear(hidden_dims, 1)\n",
    "        self.p = torch.nn.Sigmoid()\n",
    "\n",
    "    def forward(self, x):\n",
    "        h = self.i(x)\n",
    "        h = self.a(h)\n",
    "        y_hat = self.o(h)\n",
    "        y_hat = self.p(y_hat)\n",
    "        return y_hat\n",
    "\n",
    "def train(m, train_data, epochs=100, verbose=True):\n",
    "  optimizer = optim.SGD(m.parameters(), lr=0.2)\n",
    "  L = torch.nn.BCELoss()\n",
    "\n",
    "  for epoch in range(epochs):\n",
    "    # Shuffle the training data at the beginning of each epoch\n",
    "    n_samples = X_train.shape[0]\n",
    "    perm = torch.randperm(n_samples)\n",
    "    X_train_shuffled = X_train[perm]\n",
    "    y_train_shuffled = y_train[perm]\n",
    "\n",
    "    # Iterate through the data in batches\n",
    "    for i in range(0, n_samples, 32):\n",
    "      X_batch = X_train_shuffled[i:i+32]\n",
    "      y_batch = y_train_shuffled[i:i+32]\n",
    "\n",
    "      # Forward pass\n",
    "      optimizer.zero_grad()\n",
    "      y_hat = m(X_batch)\n",
    "      loss = L(y_hat.squeeze(), y_batch.squeeze())\n",
    "\n",
    "      # Backward pass and optimization\n",
    "      loss.backward()\n",
    "      optimizer.step()\n",
    "\n",
    "      if ((epoch % 100 == 0) and verbose):\n",
    "        print(epoch, loss.item())\n",
    "\n",
    "net = MLP()\n",
    "model = NNsight(net)\n",
    "train(net, X_train, 100, verbose=False)"
   ]
  },
  {
   "cell_type": "markdown",
   "metadata": {
    "id": "hHbh_dXPRwwH"
   },
   "source": [
    "Extract the grad for the hidden layer using ``NNsight`` for the first instance. We are assuming binary cross-entropy (BCE) loss here (`torch.nn.BCELoss`)."
   ]
  },
  {
   "cell_type": "code",
   "execution_count": 10,
   "metadata": {
    "id": "u1tELR6SJ3QI"
   },
   "outputs": [],
   "source": [
    "L = torch.nn.BCELoss()"
   ]
  },
  {
   "cell_type": "code",
   "execution_count": 11,
   "metadata": {
    "id": "81w57jMLKtXs"
   },
   "outputs": [],
   "source": [
    "# Your code here\n",
    "x = X_train[0:1]\n",
    "y = y_train[0:1]\n",
    "\n",
    "model.zero_grad()\n",
    "\n",
    "y_hat = net(x)\n",
    "L = torch.nn.BCELoss()\n",
    "loss_value = L(y_hat.squeeze(), y.squeeze())\n",
    "\n",
    "net.zero_grad()\n",
    "loss_value.backward()\n",
    "\n",
    "layer1_output_grad = model.i.weight.grad\n",
    "layer2_output_grad = model.o.weight.grad\n",
    "\n",
    "local_error = loss_value.item()"
   ]
  },
  {
   "cell_type": "markdown",
   "metadata": {
    "id": "Ms6EknfAhhYb"
   },
   "source": [
    "Below we print some things out that your code above should store"
   ]
  },
  {
   "cell_type": "code",
   "execution_count": 12,
   "metadata": {
    "colab": {
     "base_uri": "https://localhost:8080/"
    },
    "id": "Ei7bxIRo6ezU",
    "outputId": "2986b2a1-f38c-4bac-bef9-b8837d4eed01"
   },
   "outputs": [
    {
     "name": "stdout",
     "output_type": "stream",
     "text": [
      "tensor([[0.9836]], grad_fn=<SigmoidBackward0>)\n"
     ]
    }
   ],
   "source": [
    "print(y_hat)"
   ]
  },
  {
   "cell_type": "code",
   "execution_count": 13,
   "metadata": {
    "colab": {
     "base_uri": "https://localhost:8080/"
    },
    "id": "ziU6lj3z2679",
    "outputId": "2a201683-48e7-4140-f551-ab529af368b6"
   },
   "outputs": [
    {
     "name": "stdout",
     "output_type": "stream",
     "text": [
      "tensor(0.0166, grad_fn=<BinaryCrossEntropyBackward0>)\n"
     ]
    }
   ],
   "source": [
    "print(loss_value)"
   ]
  },
  {
   "cell_type": "code",
   "execution_count": 14,
   "metadata": {
    "colab": {
     "base_uri": "https://localhost:8080/"
    },
    "id": "aKq1iVf9_g34",
    "outputId": "8c6df5cc-4ff9-4c5e-d756-80ad39ff43e9"
   },
   "outputs": [
    {
     "name": "stdout",
     "output_type": "stream",
     "text": [
      "tensor([[0.9836]], grad_fn=<SigmoidBackward0>) tensor([1.])\n"
     ]
    }
   ],
   "source": [
    "print(y_hat, y)"
   ]
  },
  {
   "cell_type": "code",
   "execution_count": 15,
   "metadata": {
    "colab": {
     "base_uri": "https://localhost:8080/"
    },
    "id": "9j5xmSAa49aj",
    "outputId": "4cc17002-26f4-44fd-af6d-279d6c020c84"
   },
   "outputs": [
    {
     "name": "stdout",
     "output_type": "stream",
     "text": [
      "tensor([[-0.0083, -0.0122, -0.0037, -0.0010, -0.0113, -0.0162, -0.0089, -0.0158,\n",
      "         -0.0010, -0.0002, -0.0163, -0.0104, -0.0093, -0.0067, -0.0096, -0.0020]])\n"
     ]
    }
   ],
   "source": [
    "print(layer2_output_grad)"
   ]
  },
  {
   "cell_type": "code",
   "execution_count": 16,
   "metadata": {
    "colab": {
     "base_uri": "https://localhost:8080/"
    },
    "collapsed": true,
    "id": "gebgwZxzTuGa",
    "outputId": "1d9f2947-dedb-4a00-b418-60d898eeff8f"
   },
   "outputs": [
    {
     "name": "stdout",
     "output_type": "stream",
     "text": [
      "tensor([[-1.2191e-03,  3.6641e-03,  1.1355e-03, -4.6035e-03,  2.1075e-03,\n",
      "         -4.4057e-03, -4.0253e-03, -3.1252e-03,  4.0458e-04,  2.5349e-03,\n",
      "         -3.4616e-03, -4.8667e-04, -3.0882e-03,  2.7416e-03, -4.2363e-03,\n",
      "          3.4105e-03, -7.9920e-05,  1.9448e-03,  3.1810e-03, -3.4182e-03],\n",
      "        [-6.6186e-04,  1.9892e-03,  6.1643e-04, -2.4992e-03,  1.1442e-03,\n",
      "         -2.3918e-03, -2.1853e-03, -1.6966e-03,  2.1964e-04,  1.3762e-03,\n",
      "         -1.8793e-03, -2.6421e-04, -1.6766e-03,  1.4884e-03, -2.2999e-03,\n",
      "          1.8515e-03, -4.3388e-05,  1.0558e-03,  1.7269e-03, -1.8557e-03],\n",
      "        [ 3.3156e-04, -9.9649e-04, -3.0880e-04,  1.2520e-03, -5.7316e-04,\n",
      "          1.1982e-03,  1.0947e-03,  8.4993e-04, -1.1003e-04, -6.8939e-04,\n",
      "          9.4142e-04,  1.3235e-04,  8.3987e-04, -7.4562e-04,  1.1521e-03,\n",
      "         -9.2751e-04,  2.1735e-05, -5.2890e-04, -8.6511e-04,  9.2962e-04],\n",
      "        [ 5.2548e-04, -1.5793e-03, -4.8942e-04,  1.9843e-03, -9.0840e-04,\n",
      "          1.8990e-03,  1.7350e-03,  1.3470e-03, -1.7439e-04, -1.0926e-03,\n",
      "          1.4921e-03,  2.0977e-04,  1.3311e-03, -1.1817e-03,  1.8260e-03,\n",
      "         -1.4700e-03,  3.4448e-05, -8.3826e-04, -1.3711e-03,  1.4733e-03],\n",
      "        [-3.3975e-04,  1.0211e-03,  3.1643e-04, -1.2829e-03,  5.8733e-04,\n",
      "         -1.2278e-03, -1.1218e-03, -8.7094e-04,  1.1275e-04,  7.0643e-04,\n",
      "         -9.6470e-04, -1.3563e-04, -8.6063e-04,  7.6405e-04, -1.1806e-03,\n",
      "          9.5044e-04, -2.2272e-05,  5.4198e-04,  8.8649e-04, -9.5260e-04],\n",
      "        [-1.9714e-04,  5.9251e-04,  1.8361e-04, -7.4442e-04,  3.4080e-04,\n",
      "         -7.1243e-04, -6.5092e-04, -5.0536e-04,  6.5423e-05,  4.0990e-04,\n",
      "         -5.5976e-04, -7.8697e-05, -4.9938e-04,  4.4334e-04, -6.8504e-04,\n",
      "          5.5149e-04, -1.2924e-05,  3.1448e-04,  5.1439e-04, -5.5274e-04],\n",
      "        [-6.0787e-04,  1.8270e-03,  5.6615e-04, -2.2954e-03,  1.0508e-03,\n",
      "         -2.1967e-03, -2.0071e-03, -1.5583e-03,  2.0173e-04,  1.2639e-03,\n",
      "         -1.7260e-03, -2.4266e-04, -1.5398e-03,  1.3670e-03, -2.1123e-03,\n",
      "          1.7005e-03, -3.9849e-05,  9.6969e-04,  1.5861e-03, -1.7044e-03],\n",
      "        [-3.6655e-04,  1.1017e-03,  3.4139e-04, -1.3841e-03,  6.3366e-04,\n",
      "         -1.3246e-03, -1.2103e-03, -9.3964e-04,  1.2164e-04,  7.6215e-04,\n",
      "         -1.0408e-03, -1.4632e-04, -9.2852e-04,  8.2432e-04, -1.2737e-03,\n",
      "          1.0254e-03, -2.4029e-05,  5.8473e-04,  9.5642e-04, -1.0277e-03],\n",
      "        [ 9.4965e-04, -2.8542e-03, -8.8447e-04,  3.5859e-03, -1.6417e-03,\n",
      "          3.4319e-03,  3.1356e-03,  2.4344e-03, -3.1515e-04, -1.9746e-03,\n",
      "          2.6964e-03,  3.7909e-04,  2.4056e-03, -2.1356e-03,  3.2999e-03,\n",
      "         -2.6566e-03,  6.2254e-05, -1.5149e-03, -2.4779e-03,  2.6626e-03],\n",
      "        [ 1.0917e-04, -3.2812e-04, -1.0168e-04,  4.1225e-04, -1.8873e-04,\n",
      "          3.9454e-04,  3.6047e-04,  2.7986e-04, -3.6230e-05, -2.2700e-04,\n",
      "          3.0999e-04,  4.3582e-05,  2.7655e-04, -2.4552e-04,  3.7937e-04,\n",
      "         -3.0541e-04,  7.1569e-06, -1.7416e-04, -2.8486e-04,  3.0610e-04],\n",
      "        [-7.1593e-05,  2.1517e-04,  6.6679e-05, -2.7034e-04,  1.2376e-04,\n",
      "         -2.5872e-04, -2.3639e-04, -1.8353e-04,  2.3759e-05,  1.4886e-04,\n",
      "         -2.0328e-04, -2.8579e-05, -1.8135e-04,  1.6100e-04, -2.4878e-04,\n",
      "          2.0028e-04, -4.6933e-06,  1.1421e-04,  1.8680e-04, -2.0073e-04],\n",
      "        [ 7.8045e-05, -2.3457e-04, -7.2689e-05,  2.9470e-04, -1.3492e-04,\n",
      "          2.8204e-04,  2.5769e-04,  2.0007e-04, -2.5900e-05, -1.6228e-04,\n",
      "          2.2160e-04,  3.1155e-05,  1.9770e-04, -1.7551e-04,  2.7120e-04,\n",
      "         -2.1833e-04,  5.1162e-06, -1.2450e-04, -2.0364e-04,  2.1882e-04],\n",
      "        [-7.3113e-04,  2.1974e-03,  6.8095e-04, -2.7608e-03,  1.2639e-03,\n",
      "         -2.6422e-03, -2.4141e-03, -1.8742e-03,  2.4263e-04,  1.5202e-03,\n",
      "         -2.0760e-03, -2.9186e-04, -1.8520e-03,  1.6442e-03, -2.5406e-03,\n",
      "          2.0453e-03, -4.7929e-05,  1.1663e-03,  1.9077e-03, -2.0499e-03],\n",
      "        [ 2.9533e-04, -8.8762e-04, -2.7506e-04,  1.1152e-03, -5.1054e-04,\n",
      "          1.0673e-03,  9.7513e-04,  7.5707e-04, -9.8009e-05, -6.1407e-04,\n",
      "          8.3857e-04,  1.1789e-04,  7.4811e-04, -6.6416e-04,  1.0262e-03,\n",
      "         -8.2618e-04,  1.9361e-05, -4.7112e-04, -7.7059e-04,  8.2805e-04],\n",
      "        [ 8.5377e-04, -2.5660e-03, -7.9517e-04,  3.2239e-03, -1.4759e-03,\n",
      "          3.0854e-03,  2.8190e-03,  2.1886e-03, -2.8333e-04, -1.7752e-03,\n",
      "          2.4242e-03,  3.4082e-04,  2.1627e-03, -1.9200e-03,  2.9668e-03,\n",
      "         -2.3884e-03,  5.5969e-05, -1.3619e-03, -2.2277e-03,  2.3938e-03],\n",
      "        [ 4.1633e-04, -1.2513e-03, -3.8776e-04,  1.5721e-03, -7.1971e-04,\n",
      "          1.5045e-03,  1.3746e-03,  1.0672e-03, -1.3816e-04, -8.6565e-04,\n",
      "          1.1821e-03,  1.6620e-04,  1.0546e-03, -9.3627e-04,  1.4467e-03,\n",
      "         -1.1647e-03,  2.7293e-05, -6.6414e-04, -1.0863e-03,  1.1673e-03]])\n"
     ]
    }
   ],
   "source": [
    "print(layer1_output_grad)"
   ]
  },
  {
   "cell_type": "markdown",
   "metadata": {
    "id": "NFzacQefTXqp"
   },
   "source": [
    "Now compute \"manually\"; be sure to write down what you're computing. Check it matches (up to precision differences) with the `NNsight` output"
   ]
  },
  {
   "cell_type": "code",
   "execution_count": 19,
   "metadata": {
    "id": "FXP7tjoIPRfI"
   },
   "outputs": [
    {
     "name": "stdout",
     "output_type": "stream",
     "text": [
      "h: tensor([[0.4971, 0.4794, 0.4696, 0.4118, 0.4718, 0.5513, 0.4612, 0.5602, 0.4048,\n",
      "         0.4443, 0.5287, 0.5138, 0.5320, 0.4682, 0.4648, 0.5121]],\n",
      "       grad_fn=<SigmoidBackward0>)\n",
      "y_hat: tensor([[0.6076]], grad_fn=<SigmoidBackward0>)\n"
     ]
    }
   ],
   "source": [
    "# for example\n",
    "layer2_output_grad\n",
    "\n",
    "X_s = X_train[0, :].unsqueeze(0)\n",
    "y_s = y_train[0].unsqueeze(0).unsqueeze(0)\n",
    "\n",
    "# Your code here\n",
    "h = torch.sigmoid(X_s @ (layer1_output_grad).T + model.i.bias)\n",
    "y_hat = torch.sigmoid(h @ (model.o.weight).T + model.o.bias)\n",
    "loss = L(y_hat, y_s)\n",
    "\n",
    "print(f\"h: {h}\")\n",
    "print(f\"y_hat: {y_hat}\")\n",
    "\n",
    "model.zero_grad()\n",
    "loss.backward()\n",
    "\n",
    "grad_h = model.o.weight.grad"
   ]
  },
  {
   "cell_type": "code",
   "execution_count": 20,
   "metadata": {
    "colab": {
     "base_uri": "https://localhost:8080/"
    },
    "id": "W7ksW-H9SoJv",
    "outputId": "f6d3b939-eb49-4cf1-e35b-79bfd0ca05d9"
   },
   "outputs": [
    {
     "name": "stdout",
     "output_type": "stream",
     "text": [
      "tensor(0.4983, grad_fn=<BinaryCrossEntropyBackward0>)\n"
     ]
    }
   ],
   "source": [
    "# whatever you saw above, this should match (roughly)\n",
    "local_error = loss\n",
    "print(local_error)"
   ]
  },
  {
   "cell_type": "code",
   "execution_count": 21,
   "metadata": {
    "colab": {
     "base_uri": "https://localhost:8080/"
    },
    "id": "dl_StRU80QvM",
    "outputId": "0e55dc34-5a57-4682-8659-d8872541908f"
   },
   "outputs": [
    {
     "name": "stdout",
     "output_type": "stream",
     "text": [
      "tensor([[-0.1951, -0.1881, -0.1843, -0.1616, -0.1852, -0.2163, -0.1810, -0.2198,\n",
      "         -0.1588, -0.1744, -0.2075, -0.2016, -0.2088, -0.1837, -0.1824, -0.2010]])\n"
     ]
    }
   ],
   "source": [
    "# this should match the loss from NNSight for h taken above (layer1_output_grad)\n",
    "\n",
    "'''\n",
    "In the running example this should yield something like, roughly matching the\n",
    "NNSight version:\n",
    "\n",
    "array([[-2.7722754e-02, -8.5863424e-03, -4.5428472e-03,  5.1964769e-05,\n",
    "        -1.8000744e-02,  2.7206052e-02, -8.2074860e-03,  2.3773033e-03,\n",
    "         2.6360437e-02,  1.9751819e-02,  1.0714376e-02, -2.6968928e-02,\n",
    "         2.5834071e-02,  8.4591948e-04,  3.0991237e-04,  6.9138762e-03]],\n",
    "      dtype=float32)\n",
    "'''\n",
    "print(grad_h)"
   ]
  }
 ],
 "metadata": {
  "colab": {
   "provenance": []
  },
  "kernelspec": {
   "display_name": "Python 3",
   "name": "python3"
  },
  "language_info": {
   "codemirror_mode": {
    "name": "ipython",
    "version": 3
   },
   "file_extension": ".py",
   "mimetype": "text/x-python",
   "name": "python",
   "nbconvert_exporter": "python",
   "pygments_lexer": "ipython3",
   "version": "3.12.7"
  }
 },
 "nbformat": 4,
 "nbformat_minor": 0
}
